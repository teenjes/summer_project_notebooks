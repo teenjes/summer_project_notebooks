{
 "cells": [
  {
   "cell_type": "code",
   "execution_count": 22,
   "metadata": {},
   "outputs": [],
   "source": [
    "import Bio\n",
    "from Bio import SeqIO\n",
    "import numpy as np\n",
    "import pandas\n",
    "from pandas import DataFrame as df\n",
    "import seaborn as sns\n",
    "import matplotlib.pyplot as plt"
   ]
  },
  {
   "cell_type": "code",
   "execution_count": 4,
   "metadata": {},
   "outputs": [],
   "source": [
    "fastq_dict = SeqIO.to_dict(SeqIO.parse(\"/media/MassStorage/tmp/TE/summer_project/raw_data/20171207_FAH18654_albacore202/workspace/pass/barcode06/barcode06.fastq\", \"fastq\"))"
   ]
  },
  {
   "cell_type": "code",
   "execution_count": 5,
   "metadata": {},
   "outputs": [],
   "source": [
    "lengths = []\n",
    "for key in fastq_dict:\n",
    "    lengths.append(len(fastq_dict[key].seq))"
   ]
  },
  {
   "cell_type": "code",
   "execution_count": 6,
   "metadata": {},
   "outputs": [],
   "source": [
    "fastq_lengths_dataframe = df(data=[\"%.2f\" % max(lengths), \"%.2f\" % min(lengths), \"%.2f\" % np.mean(lengths), \n",
    "                \"%.2f\" % np.median(lengths)], index=[\"max\", \"min\", \"mean\", \"median\"], \n",
    "                columns=[\"Value\"])"
   ]
  },
  {
   "cell_type": "code",
   "execution_count": 7,
   "metadata": {},
   "outputs": [
    {
     "data": {
      "text/html": [
       "<div>\n",
       "<style scoped>\n",
       "    .dataframe tbody tr th:only-of-type {\n",
       "        vertical-align: middle;\n",
       "    }\n",
       "\n",
       "    .dataframe tbody tr th {\n",
       "        vertical-align: top;\n",
       "    }\n",
       "\n",
       "    .dataframe thead th {\n",
       "        text-align: right;\n",
       "    }\n",
       "</style>\n",
       "<table border=\"1\" class=\"dataframe\">\n",
       "  <thead>\n",
       "    <tr style=\"text-align: right;\">\n",
       "      <th></th>\n",
       "      <th>Value</th>\n",
       "    </tr>\n",
       "  </thead>\n",
       "  <tbody>\n",
       "    <tr>\n",
       "      <th>max</th>\n",
       "      <td>6752.00</td>\n",
       "    </tr>\n",
       "    <tr>\n",
       "      <th>min</th>\n",
       "      <td>204.00</td>\n",
       "    </tr>\n",
       "    <tr>\n",
       "      <th>mean</th>\n",
       "      <td>1652.33</td>\n",
       "    </tr>\n",
       "    <tr>\n",
       "      <th>median</th>\n",
       "      <td>1263.00</td>\n",
       "    </tr>\n",
       "  </tbody>\n",
       "</table>\n",
       "</div>"
      ],
      "text/plain": [
       "          Value\n",
       "max     6752.00\n",
       "min      204.00\n",
       "mean    1652.33\n",
       "median  1263.00"
      ]
     },
     "execution_count": 7,
     "metadata": {},
     "output_type": "execute_result"
    }
   ],
   "source": [
    "fastq_lengths_dataframe"
   ]
  },
  {
   "cell_type": "code",
   "execution_count": 8,
   "metadata": {},
   "outputs": [],
   "source": [
    "data_tmp = []\n",
    "ids = []\n",
    "for record in SeqIO.parse(\"/media/MassStorage/tmp/TE/summer_project/raw_data/20171207_FAH18654_albacore202/workspace/pass/barcode06/barcode06.fastq\", \"fastq\"):\n",
    "    ids.append(record.id)\n",
    "for key in fastq_dict:\n",
    "    tmp = [\"%.2f\" % max(fastq_dict[key].letter_annotations[\"phred_quality\"]), \"%.2f\" % min(fastq_dict[key].letter_annotations[\"phred_quality\"]), \"%.2f\" % np.mean(fastq_dict[key].letter_annotations[\"phred_quality\"]), \n",
    "                \"%.2f\" % np.median(fastq_dict[key].letter_annotations[\"phred_quality\"])]\n",
    "    data_tmp.append(tmp)\n",
    "fastq_qscores_dataframe = df(data_tmp, columns=[\"Max\", \"Min\", \"Mean\", \"Median\"], index=ids)"
   ]
  },
  {
   "cell_type": "code",
   "execution_count": 9,
   "metadata": {},
   "outputs": [
    {
     "data": {
      "text/html": [
       "<div>\n",
       "<style scoped>\n",
       "    .dataframe tbody tr th:only-of-type {\n",
       "        vertical-align: middle;\n",
       "    }\n",
       "\n",
       "    .dataframe tbody tr th {\n",
       "        vertical-align: top;\n",
       "    }\n",
       "\n",
       "    .dataframe thead th {\n",
       "        text-align: right;\n",
       "    }\n",
       "</style>\n",
       "<table border=\"1\" class=\"dataframe\">\n",
       "  <thead>\n",
       "    <tr style=\"text-align: right;\">\n",
       "      <th></th>\n",
       "      <th>Max</th>\n",
       "      <th>Min</th>\n",
       "      <th>Mean</th>\n",
       "      <th>Median</th>\n",
       "    </tr>\n",
       "  </thead>\n",
       "  <tbody>\n",
       "    <tr>\n",
       "      <th>e2acc30b-fc9d-441e-b3df-93002e08f2ea</th>\n",
       "      <td>41.00</td>\n",
       "      <td>1.00</td>\n",
       "      <td>18.03</td>\n",
       "      <td>17.00</td>\n",
       "    </tr>\n",
       "    <tr>\n",
       "      <th>5c61d3a7-d30a-4b7c-9273-606328f4db89</th>\n",
       "      <td>42.00</td>\n",
       "      <td>1.00</td>\n",
       "      <td>14.21</td>\n",
       "      <td>13.00</td>\n",
       "    </tr>\n",
       "    <tr>\n",
       "      <th>66d0cfaf-6b38-4b3a-be64-8aeb0f1579b1</th>\n",
       "      <td>41.00</td>\n",
       "      <td>1.00</td>\n",
       "      <td>20.78</td>\n",
       "      <td>20.00</td>\n",
       "    </tr>\n",
       "    <tr>\n",
       "      <th>8ced27ad-dcf5-4737-ba32-aac095e8f237</th>\n",
       "      <td>41.00</td>\n",
       "      <td>1.00</td>\n",
       "      <td>16.79</td>\n",
       "      <td>15.00</td>\n",
       "    </tr>\n",
       "    <tr>\n",
       "      <th>b2f01e8d-2b79-43c5-85c9-b131ea1095ab</th>\n",
       "      <td>41.00</td>\n",
       "      <td>1.00</td>\n",
       "      <td>17.01</td>\n",
       "      <td>16.00</td>\n",
       "    </tr>\n",
       "    <tr>\n",
       "      <th>2e84749c-1468-4fda-bede-a7a2a4dd9952</th>\n",
       "      <td>42.00</td>\n",
       "      <td>1.00</td>\n",
       "      <td>19.44</td>\n",
       "      <td>18.00</td>\n",
       "    </tr>\n",
       "    <tr>\n",
       "      <th>09c60e6e-6be4-4a45-aeaf-645ec6ac9883</th>\n",
       "      <td>41.00</td>\n",
       "      <td>2.00</td>\n",
       "      <td>18.11</td>\n",
       "      <td>17.00</td>\n",
       "    </tr>\n",
       "    <tr>\n",
       "      <th>1d2725e5-f01d-40e0-bb51-21776a26cc72</th>\n",
       "      <td>41.00</td>\n",
       "      <td>1.00</td>\n",
       "      <td>16.05</td>\n",
       "      <td>15.00</td>\n",
       "    </tr>\n",
       "    <tr>\n",
       "      <th>7cf74112-48d8-4cbf-aea6-2ead8287f6a4</th>\n",
       "      <td>41.00</td>\n",
       "      <td>1.00</td>\n",
       "      <td>19.06</td>\n",
       "      <td>18.00</td>\n",
       "    </tr>\n",
       "    <tr>\n",
       "      <th>b337cd12-ba8f-4fdc-ab82-7c9630b44af3</th>\n",
       "      <td>38.00</td>\n",
       "      <td>2.00</td>\n",
       "      <td>12.21</td>\n",
       "      <td>11.00</td>\n",
       "    </tr>\n",
       "    <tr>\n",
       "      <th>d043daf5-c7af-411d-b8c8-c6c7cd057219</th>\n",
       "      <td>41.00</td>\n",
       "      <td>2.00</td>\n",
       "      <td>17.02</td>\n",
       "      <td>15.00</td>\n",
       "    </tr>\n",
       "    <tr>\n",
       "      <th>d3f18074-733a-420f-86e0-92b77496e9c7</th>\n",
       "      <td>40.00</td>\n",
       "      <td>1.00</td>\n",
       "      <td>18.01</td>\n",
       "      <td>17.00</td>\n",
       "    </tr>\n",
       "    <tr>\n",
       "      <th>c37c3747-d3de-46c8-8d81-3198a6a4a1b1</th>\n",
       "      <td>41.00</td>\n",
       "      <td>2.00</td>\n",
       "      <td>18.95</td>\n",
       "      <td>18.00</td>\n",
       "    </tr>\n",
       "    <tr>\n",
       "      <th>5a1fd1cd-425a-4046-b90d-f127c1fcaf4f</th>\n",
       "      <td>41.00</td>\n",
       "      <td>2.00</td>\n",
       "      <td>21.74</td>\n",
       "      <td>21.00</td>\n",
       "    </tr>\n",
       "    <tr>\n",
       "      <th>f11c7e73-2542-405e-878d-7dbb7b0a0925</th>\n",
       "      <td>41.00</td>\n",
       "      <td>1.00</td>\n",
       "      <td>16.54</td>\n",
       "      <td>15.00</td>\n",
       "    </tr>\n",
       "    <tr>\n",
       "      <th>0e99bec3-c258-48fa-82a7-7d8d6bf567fe</th>\n",
       "      <td>40.00</td>\n",
       "      <td>2.00</td>\n",
       "      <td>18.86</td>\n",
       "      <td>19.00</td>\n",
       "    </tr>\n",
       "    <tr>\n",
       "      <th>1334c3c0-98cf-426a-a184-f5bfbc4e0948</th>\n",
       "      <td>41.00</td>\n",
       "      <td>2.00</td>\n",
       "      <td>17.40</td>\n",
       "      <td>16.00</td>\n",
       "    </tr>\n",
       "    <tr>\n",
       "      <th>5be07619-609f-4d74-acf9-ebbc74d4ac54</th>\n",
       "      <td>38.00</td>\n",
       "      <td>2.00</td>\n",
       "      <td>13.73</td>\n",
       "      <td>13.00</td>\n",
       "    </tr>\n",
       "    <tr>\n",
       "      <th>0237c0af-fc68-43b3-a577-a201e70de661</th>\n",
       "      <td>40.00</td>\n",
       "      <td>1.00</td>\n",
       "      <td>20.20</td>\n",
       "      <td>20.00</td>\n",
       "    </tr>\n",
       "    <tr>\n",
       "      <th>a75cabb7-90ea-427d-828a-5e35beea211e</th>\n",
       "      <td>41.00</td>\n",
       "      <td>2.00</td>\n",
       "      <td>18.21</td>\n",
       "      <td>16.00</td>\n",
       "    </tr>\n",
       "    <tr>\n",
       "      <th>d122d851-e45e-4cc7-a8eb-128ac93639a9</th>\n",
       "      <td>41.00</td>\n",
       "      <td>2.00</td>\n",
       "      <td>20.87</td>\n",
       "      <td>20.00</td>\n",
       "    </tr>\n",
       "    <tr>\n",
       "      <th>13949e80-ae72-4628-872d-b8244d5221d2</th>\n",
       "      <td>41.00</td>\n",
       "      <td>2.00</td>\n",
       "      <td>18.09</td>\n",
       "      <td>17.00</td>\n",
       "    </tr>\n",
       "    <tr>\n",
       "      <th>64ef95a3-36ae-44e0-8103-cd1b0dcec7df</th>\n",
       "      <td>41.00</td>\n",
       "      <td>2.00</td>\n",
       "      <td>16.48</td>\n",
       "      <td>15.00</td>\n",
       "    </tr>\n",
       "    <tr>\n",
       "      <th>323336f1-51d8-49b0-b8e8-e54ad0dd0e65</th>\n",
       "      <td>40.00</td>\n",
       "      <td>2.00</td>\n",
       "      <td>19.65</td>\n",
       "      <td>19.00</td>\n",
       "    </tr>\n",
       "    <tr>\n",
       "      <th>30ca645e-7c62-45d3-b881-84a1061bb157</th>\n",
       "      <td>40.00</td>\n",
       "      <td>2.00</td>\n",
       "      <td>18.01</td>\n",
       "      <td>17.00</td>\n",
       "    </tr>\n",
       "    <tr>\n",
       "      <th>34f26a15-7faf-454a-9520-a664b20b7afc</th>\n",
       "      <td>40.00</td>\n",
       "      <td>2.00</td>\n",
       "      <td>17.34</td>\n",
       "      <td>16.00</td>\n",
       "    </tr>\n",
       "    <tr>\n",
       "      <th>0b22dc16-2c6b-4a39-8656-08039c044d19</th>\n",
       "      <td>41.00</td>\n",
       "      <td>3.00</td>\n",
       "      <td>20.32</td>\n",
       "      <td>19.00</td>\n",
       "    </tr>\n",
       "    <tr>\n",
       "      <th>64302709-a279-4ee0-9311-9bc2414c4776</th>\n",
       "      <td>41.00</td>\n",
       "      <td>2.00</td>\n",
       "      <td>20.57</td>\n",
       "      <td>19.50</td>\n",
       "    </tr>\n",
       "    <tr>\n",
       "      <th>f6042828-70e8-4750-b21e-0996f36e32db</th>\n",
       "      <td>41.00</td>\n",
       "      <td>2.00</td>\n",
       "      <td>18.22</td>\n",
       "      <td>17.00</td>\n",
       "    </tr>\n",
       "    <tr>\n",
       "      <th>21ff35ad-0a5a-4b6c-8658-ee92311d135a</th>\n",
       "      <td>41.00</td>\n",
       "      <td>3.00</td>\n",
       "      <td>18.38</td>\n",
       "      <td>17.00</td>\n",
       "    </tr>\n",
       "    <tr>\n",
       "      <th>...</th>\n",
       "      <td>...</td>\n",
       "      <td>...</td>\n",
       "      <td>...</td>\n",
       "      <td>...</td>\n",
       "    </tr>\n",
       "    <tr>\n",
       "      <th>b91a9ca6-0aeb-4a16-8eac-8f6dbf0dd9ce</th>\n",
       "      <td>40.00</td>\n",
       "      <td>2.00</td>\n",
       "      <td>18.33</td>\n",
       "      <td>17.00</td>\n",
       "    </tr>\n",
       "    <tr>\n",
       "      <th>784c6a40-bd25-42f2-be7d-10a15ace2a3a</th>\n",
       "      <td>40.00</td>\n",
       "      <td>2.00</td>\n",
       "      <td>14.18</td>\n",
       "      <td>12.00</td>\n",
       "    </tr>\n",
       "    <tr>\n",
       "      <th>9fc94fcb-69ec-4182-a8b0-546fab647293</th>\n",
       "      <td>40.00</td>\n",
       "      <td>2.00</td>\n",
       "      <td>15.80</td>\n",
       "      <td>14.00</td>\n",
       "    </tr>\n",
       "    <tr>\n",
       "      <th>b54ae4cd-5496-4de2-96ec-dca471a3c189</th>\n",
       "      <td>39.00</td>\n",
       "      <td>2.00</td>\n",
       "      <td>13.56</td>\n",
       "      <td>12.00</td>\n",
       "    </tr>\n",
       "    <tr>\n",
       "      <th>a34e759b-9421-4173-9398-b7ddff9a956f</th>\n",
       "      <td>40.00</td>\n",
       "      <td>2.00</td>\n",
       "      <td>14.47</td>\n",
       "      <td>13.00</td>\n",
       "    </tr>\n",
       "    <tr>\n",
       "      <th>93ee65dd-d43f-4a26-98c8-981176df631a</th>\n",
       "      <td>41.00</td>\n",
       "      <td>1.00</td>\n",
       "      <td>14.10</td>\n",
       "      <td>13.00</td>\n",
       "    </tr>\n",
       "    <tr>\n",
       "      <th>78525ce6-6a66-4e3a-a1da-bcca67aab4b1</th>\n",
       "      <td>42.00</td>\n",
       "      <td>2.00</td>\n",
       "      <td>18.11</td>\n",
       "      <td>17.00</td>\n",
       "    </tr>\n",
       "    <tr>\n",
       "      <th>d82b2817-8578-4d31-b806-6b6432234df6</th>\n",
       "      <td>41.00</td>\n",
       "      <td>3.00</td>\n",
       "      <td>18.09</td>\n",
       "      <td>16.00</td>\n",
       "    </tr>\n",
       "    <tr>\n",
       "      <th>a15ad29c-9ab3-4b99-a9a4-f30a07e5d64f</th>\n",
       "      <td>39.00</td>\n",
       "      <td>2.00</td>\n",
       "      <td>17.31</td>\n",
       "      <td>16.00</td>\n",
       "    </tr>\n",
       "    <tr>\n",
       "      <th>b7569a15-1942-4106-be4b-8c3f2a3fbbe1</th>\n",
       "      <td>41.00</td>\n",
       "      <td>2.00</td>\n",
       "      <td>15.98</td>\n",
       "      <td>14.00</td>\n",
       "    </tr>\n",
       "    <tr>\n",
       "      <th>13295c14-cfb8-4592-acc9-0ae994f5569e</th>\n",
       "      <td>40.00</td>\n",
       "      <td>2.00</td>\n",
       "      <td>16.81</td>\n",
       "      <td>15.00</td>\n",
       "    </tr>\n",
       "    <tr>\n",
       "      <th>a5011b41-310f-4341-9f34-cd71ceaea92b</th>\n",
       "      <td>41.00</td>\n",
       "      <td>2.00</td>\n",
       "      <td>14.76</td>\n",
       "      <td>13.00</td>\n",
       "    </tr>\n",
       "    <tr>\n",
       "      <th>b4b5850e-eb31-462b-8937-dca57e2a66c7</th>\n",
       "      <td>36.00</td>\n",
       "      <td>2.00</td>\n",
       "      <td>11.48</td>\n",
       "      <td>10.00</td>\n",
       "    </tr>\n",
       "    <tr>\n",
       "      <th>4377568c-386e-429e-bdb8-4f6e02ef2e17</th>\n",
       "      <td>41.00</td>\n",
       "      <td>1.00</td>\n",
       "      <td>16.68</td>\n",
       "      <td>15.00</td>\n",
       "    </tr>\n",
       "    <tr>\n",
       "      <th>306adec5-329e-4f40-a5fd-5e96854f62d5</th>\n",
       "      <td>40.00</td>\n",
       "      <td>1.00</td>\n",
       "      <td>17.00</td>\n",
       "      <td>16.00</td>\n",
       "    </tr>\n",
       "    <tr>\n",
       "      <th>4ae9c4cf-d84f-44ad-b774-9ee604b36014</th>\n",
       "      <td>41.00</td>\n",
       "      <td>1.00</td>\n",
       "      <td>11.42</td>\n",
       "      <td>10.00</td>\n",
       "    </tr>\n",
       "    <tr>\n",
       "      <th>6523e942-d1f5-4ac2-941c-f1f85e5f0008</th>\n",
       "      <td>40.00</td>\n",
       "      <td>1.00</td>\n",
       "      <td>14.62</td>\n",
       "      <td>13.00</td>\n",
       "    </tr>\n",
       "    <tr>\n",
       "      <th>70fec7ad-352f-4f84-84d3-52dbaae78423</th>\n",
       "      <td>40.00</td>\n",
       "      <td>1.00</td>\n",
       "      <td>14.64</td>\n",
       "      <td>13.00</td>\n",
       "    </tr>\n",
       "    <tr>\n",
       "      <th>8725383d-2054-486a-a183-f0194c10e552</th>\n",
       "      <td>35.00</td>\n",
       "      <td>1.00</td>\n",
       "      <td>9.79</td>\n",
       "      <td>8.00</td>\n",
       "    </tr>\n",
       "    <tr>\n",
       "      <th>cf608307-a6ba-4c6f-9f9f-39a3f8a4b446</th>\n",
       "      <td>41.00</td>\n",
       "      <td>1.00</td>\n",
       "      <td>14.95</td>\n",
       "      <td>13.00</td>\n",
       "    </tr>\n",
       "    <tr>\n",
       "      <th>6c18aacc-e241-439c-9a06-c95561855a25</th>\n",
       "      <td>41.00</td>\n",
       "      <td>1.00</td>\n",
       "      <td>18.67</td>\n",
       "      <td>18.00</td>\n",
       "    </tr>\n",
       "    <tr>\n",
       "      <th>73659aaa-b73f-4969-960c-3067025b302e</th>\n",
       "      <td>42.00</td>\n",
       "      <td>2.00</td>\n",
       "      <td>13.24</td>\n",
       "      <td>11.00</td>\n",
       "    </tr>\n",
       "    <tr>\n",
       "      <th>2c9a43ce-b5bb-4353-aba0-92d865edc430</th>\n",
       "      <td>38.00</td>\n",
       "      <td>3.00</td>\n",
       "      <td>13.60</td>\n",
       "      <td>12.00</td>\n",
       "    </tr>\n",
       "    <tr>\n",
       "      <th>82be1838-2283-473e-9337-0279bfa6fa67</th>\n",
       "      <td>41.00</td>\n",
       "      <td>2.00</td>\n",
       "      <td>17.26</td>\n",
       "      <td>16.00</td>\n",
       "    </tr>\n",
       "    <tr>\n",
       "      <th>0cd3da62-3203-4f4c-8442-5a87ef6e4e94</th>\n",
       "      <td>39.00</td>\n",
       "      <td>1.00</td>\n",
       "      <td>13.33</td>\n",
       "      <td>12.00</td>\n",
       "    </tr>\n",
       "    <tr>\n",
       "      <th>13d0c0b2-48e5-4a4c-986a-bbed24f382e8</th>\n",
       "      <td>41.00</td>\n",
       "      <td>2.00</td>\n",
       "      <td>15.52</td>\n",
       "      <td>14.00</td>\n",
       "    </tr>\n",
       "    <tr>\n",
       "      <th>a20083ff-96af-47b6-910a-d833b4e0b486</th>\n",
       "      <td>41.00</td>\n",
       "      <td>1.00</td>\n",
       "      <td>15.97</td>\n",
       "      <td>15.00</td>\n",
       "    </tr>\n",
       "    <tr>\n",
       "      <th>75333e5b-9e86-4854-a3a5-feb777428ab3</th>\n",
       "      <td>40.00</td>\n",
       "      <td>2.00</td>\n",
       "      <td>14.81</td>\n",
       "      <td>13.00</td>\n",
       "    </tr>\n",
       "    <tr>\n",
       "      <th>d6d6d89d-cac0-46c4-a30f-f08a6ba5c8b8</th>\n",
       "      <td>40.00</td>\n",
       "      <td>1.00</td>\n",
       "      <td>16.10</td>\n",
       "      <td>15.00</td>\n",
       "    </tr>\n",
       "    <tr>\n",
       "      <th>8411758a-dce8-4745-9949-61cb82c10ccc</th>\n",
       "      <td>41.00</td>\n",
       "      <td>1.00</td>\n",
       "      <td>16.24</td>\n",
       "      <td>15.00</td>\n",
       "    </tr>\n",
       "  </tbody>\n",
       "</table>\n",
       "<p>203474 rows × 4 columns</p>\n",
       "</div>"
      ],
      "text/plain": [
       "                                        Max   Min   Mean Median\n",
       "e2acc30b-fc9d-441e-b3df-93002e08f2ea  41.00  1.00  18.03  17.00\n",
       "5c61d3a7-d30a-4b7c-9273-606328f4db89  42.00  1.00  14.21  13.00\n",
       "66d0cfaf-6b38-4b3a-be64-8aeb0f1579b1  41.00  1.00  20.78  20.00\n",
       "8ced27ad-dcf5-4737-ba32-aac095e8f237  41.00  1.00  16.79  15.00\n",
       "b2f01e8d-2b79-43c5-85c9-b131ea1095ab  41.00  1.00  17.01  16.00\n",
       "2e84749c-1468-4fda-bede-a7a2a4dd9952  42.00  1.00  19.44  18.00\n",
       "09c60e6e-6be4-4a45-aeaf-645ec6ac9883  41.00  2.00  18.11  17.00\n",
       "1d2725e5-f01d-40e0-bb51-21776a26cc72  41.00  1.00  16.05  15.00\n",
       "7cf74112-48d8-4cbf-aea6-2ead8287f6a4  41.00  1.00  19.06  18.00\n",
       "b337cd12-ba8f-4fdc-ab82-7c9630b44af3  38.00  2.00  12.21  11.00\n",
       "d043daf5-c7af-411d-b8c8-c6c7cd057219  41.00  2.00  17.02  15.00\n",
       "d3f18074-733a-420f-86e0-92b77496e9c7  40.00  1.00  18.01  17.00\n",
       "c37c3747-d3de-46c8-8d81-3198a6a4a1b1  41.00  2.00  18.95  18.00\n",
       "5a1fd1cd-425a-4046-b90d-f127c1fcaf4f  41.00  2.00  21.74  21.00\n",
       "f11c7e73-2542-405e-878d-7dbb7b0a0925  41.00  1.00  16.54  15.00\n",
       "0e99bec3-c258-48fa-82a7-7d8d6bf567fe  40.00  2.00  18.86  19.00\n",
       "1334c3c0-98cf-426a-a184-f5bfbc4e0948  41.00  2.00  17.40  16.00\n",
       "5be07619-609f-4d74-acf9-ebbc74d4ac54  38.00  2.00  13.73  13.00\n",
       "0237c0af-fc68-43b3-a577-a201e70de661  40.00  1.00  20.20  20.00\n",
       "a75cabb7-90ea-427d-828a-5e35beea211e  41.00  2.00  18.21  16.00\n",
       "d122d851-e45e-4cc7-a8eb-128ac93639a9  41.00  2.00  20.87  20.00\n",
       "13949e80-ae72-4628-872d-b8244d5221d2  41.00  2.00  18.09  17.00\n",
       "64ef95a3-36ae-44e0-8103-cd1b0dcec7df  41.00  2.00  16.48  15.00\n",
       "323336f1-51d8-49b0-b8e8-e54ad0dd0e65  40.00  2.00  19.65  19.00\n",
       "30ca645e-7c62-45d3-b881-84a1061bb157  40.00  2.00  18.01  17.00\n",
       "34f26a15-7faf-454a-9520-a664b20b7afc  40.00  2.00  17.34  16.00\n",
       "0b22dc16-2c6b-4a39-8656-08039c044d19  41.00  3.00  20.32  19.00\n",
       "64302709-a279-4ee0-9311-9bc2414c4776  41.00  2.00  20.57  19.50\n",
       "f6042828-70e8-4750-b21e-0996f36e32db  41.00  2.00  18.22  17.00\n",
       "21ff35ad-0a5a-4b6c-8658-ee92311d135a  41.00  3.00  18.38  17.00\n",
       "...                                     ...   ...    ...    ...\n",
       "b91a9ca6-0aeb-4a16-8eac-8f6dbf0dd9ce  40.00  2.00  18.33  17.00\n",
       "784c6a40-bd25-42f2-be7d-10a15ace2a3a  40.00  2.00  14.18  12.00\n",
       "9fc94fcb-69ec-4182-a8b0-546fab647293  40.00  2.00  15.80  14.00\n",
       "b54ae4cd-5496-4de2-96ec-dca471a3c189  39.00  2.00  13.56  12.00\n",
       "a34e759b-9421-4173-9398-b7ddff9a956f  40.00  2.00  14.47  13.00\n",
       "93ee65dd-d43f-4a26-98c8-981176df631a  41.00  1.00  14.10  13.00\n",
       "78525ce6-6a66-4e3a-a1da-bcca67aab4b1  42.00  2.00  18.11  17.00\n",
       "d82b2817-8578-4d31-b806-6b6432234df6  41.00  3.00  18.09  16.00\n",
       "a15ad29c-9ab3-4b99-a9a4-f30a07e5d64f  39.00  2.00  17.31  16.00\n",
       "b7569a15-1942-4106-be4b-8c3f2a3fbbe1  41.00  2.00  15.98  14.00\n",
       "13295c14-cfb8-4592-acc9-0ae994f5569e  40.00  2.00  16.81  15.00\n",
       "a5011b41-310f-4341-9f34-cd71ceaea92b  41.00  2.00  14.76  13.00\n",
       "b4b5850e-eb31-462b-8937-dca57e2a66c7  36.00  2.00  11.48  10.00\n",
       "4377568c-386e-429e-bdb8-4f6e02ef2e17  41.00  1.00  16.68  15.00\n",
       "306adec5-329e-4f40-a5fd-5e96854f62d5  40.00  1.00  17.00  16.00\n",
       "4ae9c4cf-d84f-44ad-b774-9ee604b36014  41.00  1.00  11.42  10.00\n",
       "6523e942-d1f5-4ac2-941c-f1f85e5f0008  40.00  1.00  14.62  13.00\n",
       "70fec7ad-352f-4f84-84d3-52dbaae78423  40.00  1.00  14.64  13.00\n",
       "8725383d-2054-486a-a183-f0194c10e552  35.00  1.00   9.79   8.00\n",
       "cf608307-a6ba-4c6f-9f9f-39a3f8a4b446  41.00  1.00  14.95  13.00\n",
       "6c18aacc-e241-439c-9a06-c95561855a25  41.00  1.00  18.67  18.00\n",
       "73659aaa-b73f-4969-960c-3067025b302e  42.00  2.00  13.24  11.00\n",
       "2c9a43ce-b5bb-4353-aba0-92d865edc430  38.00  3.00  13.60  12.00\n",
       "82be1838-2283-473e-9337-0279bfa6fa67  41.00  2.00  17.26  16.00\n",
       "0cd3da62-3203-4f4c-8442-5a87ef6e4e94  39.00  1.00  13.33  12.00\n",
       "13d0c0b2-48e5-4a4c-986a-bbed24f382e8  41.00  2.00  15.52  14.00\n",
       "a20083ff-96af-47b6-910a-d833b4e0b486  41.00  1.00  15.97  15.00\n",
       "75333e5b-9e86-4854-a3a5-feb777428ab3  40.00  2.00  14.81  13.00\n",
       "d6d6d89d-cac0-46c4-a30f-f08a6ba5c8b8  40.00  1.00  16.10  15.00\n",
       "8411758a-dce8-4745-9949-61cb82c10ccc  41.00  1.00  16.24  15.00\n",
       "\n",
       "[203474 rows x 4 columns]"
      ]
     },
     "execution_count": 9,
     "metadata": {},
     "output_type": "execute_result"
    }
   ],
   "source": [
    "fastq_qscores_dataframe"
   ]
  },
  {
   "cell_type": "code",
   "execution_count": 10,
   "metadata": {},
   "outputs": [],
   "source": [
    "mean_qscores = []\n",
    "for key in fastq_dict:\n",
    "    mean_qscores.append(np.mean(fastq_dict[key].letter_annotations[\"phred_quality\"]))"
   ]
  },
  {
   "cell_type": "code",
   "execution_count": 11,
   "metadata": {},
   "outputs": [
    {
     "name": "stderr",
     "output_type": "stream",
     "text": [
      "/home/tavish/anaconda3/lib/python3.7/site-packages/scipy/stats/stats.py:1713: FutureWarning: Using a non-tuple sequence for multidimensional indexing is deprecated; use `arr[tuple(seq)]` instead of `arr[seq]`. In the future this will be interpreted as an array index, `arr[np.array(seq)]`, which will result either in an error or a different result.\n",
      "  return np.add.reduce(sorted[indexer] * weights, axis=axis) / sumval\n"
     ]
    },
    {
     "data": {
      "text/plain": [
       "<matplotlib.axes._subplots.AxesSubplot at 0x7f9d9fe31c88>"
      ]
     },
     "execution_count": 11,
     "metadata": {},
     "output_type": "execute_result"
    },
    {
     "data": {
      "image/png": "[encoded data removed]",
      "text/plain": [
       "<Figure size 432x288 with 1 Axes>"
      ]
     },
     "metadata": {
      "needs_background": "light"
     },
     "output_type": "display_data"
    }
   ],
   "source": [
    "sns.distplot(lengths, color=\"k\")"
   ]
  },
  {
   "cell_type": "code",
   "execution_count": 12,
   "metadata": {},
   "outputs": [
    {
     "name": "stderr",
     "output_type": "stream",
     "text": [
      "/home/tavish/anaconda3/lib/python3.7/site-packages/scipy/stats/stats.py:1713: FutureWarning: Using a non-tuple sequence for multidimensional indexing is deprecated; use `arr[tuple(seq)]` instead of `arr[seq]`. In the future this will be interpreted as an array index, `arr[np.array(seq)]`, which will result either in an error or a different result.\n",
      "  return np.add.reduce(sorted[indexer] * weights, axis=axis) / sumval\n"
     ]
    },
    {
     "data": {
      "text/plain": [
       "Text(0,0.5,'Frequency')"
      ]
     },
     "execution_count": 12,
     "metadata": {},
     "output_type": "execute_result"
    },
    {
     "data": {
      "image/png": "[encoded data removed]",
      "text/plain": [
       "<Figure size 432x288 with 1 Axes>"
      ]
     },
     "metadata": {
      "needs_background": "light"
     },
     "output_type": "display_data"
    }
   ],
   "source": [
    "ax = sns.distplot(mean_qscores, color=\"k\")\n",
    "ax.set_xlabel(\"Q Score\")\n",
    "ax.set_ylabel(\"Frequency\")"
   ]
  },
  {
   "cell_type": "code",
   "execution_count": 13,
   "metadata": {},
   "outputs": [
    {
     "name": "stderr",
     "output_type": "stream",
     "text": [
      "/home/tavish/anaconda3/lib/python3.7/site-packages/scipy/stats/stats.py:1713: FutureWarning: Using a non-tuple sequence for multidimensional indexing is deprecated; use `arr[tuple(seq)]` instead of `arr[seq]`. In the future this will be interpreted as an array index, `arr[np.array(seq)]`, which will result either in an error or a different result.\n",
      "  return np.add.reduce(sorted[indexer] * weights, axis=axis) / sumval\n"
     ]
    },
    {
     "data": {
      "text/plain": [
       "<seaborn.axisgrid.JointGrid at 0x7f9d9f5146d8>"
      ]
     },
     "execution_count": 13,
     "metadata": {},
     "output_type": "execute_result"
    },
    {
     "data": {
      "image/png": "[encoded data removed]",
      "text/plain": [
       "<Figure size 432x432 with 3 Axes>"
      ]
     },
     "metadata": {
      "needs_background": "light"
     },
     "output_type": "display_data"
    }
   ],
   "source": [
    "sns.jointplot(x=lengths, y=mean_qscores, color=\"k\")"
   ]
  },
  {
   "cell_type": "code",
   "execution_count": 14,
   "metadata": {},
   "outputs": [
    {
     "name": "stderr",
     "output_type": "stream",
     "text": [
      "/home/tavish/anaconda3/lib/python3.7/site-packages/scipy/stats/stats.py:1713: FutureWarning: Using a non-tuple sequence for multidimensional indexing is deprecated; use `arr[tuple(seq)]` instead of `arr[seq]`. In the future this will be interpreted as an array index, `arr[np.array(seq)]`, which will result either in an error or a different result.\n",
      "  return np.add.reduce(sorted[indexer] * weights, axis=axis) / sumval\n"
     ]
    },
    {
     "data": {
      "text/plain": [
       "<seaborn.axisgrid.JointGrid at 0x7f9d9f37c550>"
      ]
     },
     "execution_count": 14,
     "metadata": {},
     "output_type": "execute_result"
    },
    {
     "data": {
      "image/png": "[encoded data removed]",
      "text/plain": [
       "<Figure size 432x432 with 3 Axes>"
      ]
     },
     "metadata": {
      "needs_background": "light"
     },
     "output_type": "display_data"
    }
   ],
   "source": [
    "sns.jointplot(x=lengths, y=mean_qscores, kind=\"kde\", color=\"k\")"
   ]
  },
  {
   "cell_type": "code",
   "execution_count": 15,
   "metadata": {},
   "outputs": [
    {
     "name": "stderr",
     "output_type": "stream",
     "text": [
      "/home/tavish/anaconda3/lib/python3.7/site-packages/scipy/stats/stats.py:1713: FutureWarning: Using a non-tuple sequence for multidimensional indexing is deprecated; use `arr[tuple(seq)]` instead of `arr[seq]`. In the future this will be interpreted as an array index, `arr[np.array(seq)]`, which will result either in an error or a different result.\n",
      "  return np.add.reduce(sorted[indexer] * weights, axis=axis) / sumval\n"
     ]
    },
    {
     "data": {
      "text/plain": [
       "<seaborn.axisgrid.JointGrid at 0x7f9d9dd73eb8>"
      ]
     },
     "execution_count": 15,
     "metadata": {},
     "output_type": "execute_result"
    },
    {
     "data": {
      "image/png": "[encoded data removed]",
      "text/plain": [
       "<Figure size 432x432 with 3 Axes>"
      ]
     },
     "metadata": {
      "needs_background": "light"
     },
     "output_type": "display_data"
    }
   ],
   "source": [
    "sns.jointplot(x=lengths, y=mean_qscores, kind=\"hex\", color=\"k\")"
   ]
  }
 ],
 "metadata": {
  "kernelspec": {
   "display_name": "Python 3",
   "language": "python",
   "name": "python3"
  },
  "language_info": {
   "codemirror_mode": {
    "name": "ipython",
    "version": 3
   },
   "file_extension": ".py",
   "mimetype": "text/x-python",
   "name": "python",
   "nbconvert_exporter": "python",
   "pygments_lexer": "ipython3",
   "version": "3.7.0"
  }
 },
 "nbformat": 4,
 "nbformat_minor": 2
}
