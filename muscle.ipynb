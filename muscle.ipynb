{
 "cells": [
  {
   "cell_type": "code",
   "execution_count": 1,
   "metadata": {},
   "outputs": [],
   "source": [
    "import Bio\n",
    "from Bio import SeqIO\n",
    "from Bio import AlignIO\n",
    "from Bio.Seq import Seq\n",
    "import numpy as np\n",
    "import pandas\n",
    "from pandas import DataFrame as df\n",
    "import seaborn as sns\n",
    "import matplotlib.pyplot as plt\n",
    "import subprocess\n",
    "import os\n",
    "from mothur_py import Mothur\n",
    "from shutil import copy\n",
    "import warnings\n",
    "warnings.filterwarnings(\"ignore\")\n",
    "import Bio.Align.Applications"
   ]
  },
  {
   "cell_type": "code",
   "execution_count": 2,
   "metadata": {},
   "outputs": [
    {
     "data": {
      "text/plain": [
       "['ClustalOmegaCommandline',\n",
       " 'ClustalwCommandline',\n",
       " 'DialignCommandline',\n",
       " 'MSAProbsCommandline',\n",
       " 'MafftCommandline',\n",
       " 'MuscleCommandline',\n",
       " 'PrankCommandline',\n",
       " 'ProbconsCommandline',\n",
       " 'TCoffeeCommandline',\n",
       " '_ClustalOmega',\n",
       " '_Clustalw',\n",
       " '_Dialign',\n",
       " '_MSAProbs',\n",
       " '_Mafft',\n",
       " '_Muscle',\n",
       " '_Prank',\n",
       " '_Probcons',\n",
       " '_TCoffee',\n",
       " '__all__',\n",
       " '__builtins__',\n",
       " '__cached__',\n",
       " '__doc__',\n",
       " '__file__',\n",
       " '__loader__',\n",
       " '__name__',\n",
       " '__package__',\n",
       " '__path__',\n",
       " '__spec__']"
      ]
     },
     "execution_count": 2,
     "metadata": {},
     "output_type": "execute_result"
    }
   ],
   "source": [
    "dir(Bio.Align.Applications)"
   ]
  },
  {
   "cell_type": "code",
   "execution_count": 3,
   "metadata": {},
   "outputs": [],
   "source": [
    "from Bio.Align.Applications import ClustalwCommandline"
   ]
  },
  {
   "cell_type": "code",
   "execution_count": 4,
   "metadata": {},
   "outputs": [],
   "source": [
    "in_file = \"../../analysis/filtered/Hu_FAH15473_albacore202/workspace/pass/barcode02/barcode02_filtered.fasta\""
   ]
  },
  {
   "cell_type": "code",
   "execution_count": 5,
   "metadata": {},
   "outputs": [
    {
     "ename": "SyntaxError",
     "evalue": "positional argument follows keyword argument (<ipython-input-5-834947f30e40>, line 1)",
     "output_type": "error",
     "traceback": [
      "\u001b[0;36m  File \u001b[0;32m\"<ipython-input-5-834947f30e40>\"\u001b[0;36m, line \u001b[0;32m1\u001b[0m\n\u001b[0;31m    clustalw_cline = ClustalwCommandline(\"clustalw2\", infile=in_file, outfile)\u001b[0m\n\u001b[0m                                                                     ^\u001b[0m\n\u001b[0;31mSyntaxError\u001b[0m\u001b[0;31m:\u001b[0m positional argument follows keyword argument\n"
     ]
    }
   ],
   "source": [
    "clustalw_cline = ClustalwCommandline(\"clustalw2\", infile=in_file)\n",
    "print(clustalw_cline)"
   ]
  },
  {
   "cell_type": "code",
   "execution_count": null,
   "metadata": {},
   "outputs": [],
   "source": [
    "align = AlignIO.read(\"../../analysis/alignments/MAFFT/_out.1812101138932XiohI7DFTWEzZYmuPt9Q6lsfnormal.aln\", \"clustal\")"
   ]
  },
  {
   "cell_type": "code",
   "execution_count": null,
   "metadata": {},
   "outputs": [],
   "source": [
    "print(align)"
   ]
  },
  {
   "cell_type": "code",
   "execution_count": 13,
   "metadata": {},
   "outputs": [],
   "source": [
    "from Bio.Align.Applications import MuscleCommandline"
   ]
  },
  {
   "cell_type": "code",
   "execution_count": 15,
   "metadata": {},
   "outputs": [
    {
     "name": "stdout",
     "output_type": "stream",
     "text": [
      "muscle -in ../../analysis/filtered/Hu_FAH15473_albacore202/workspace/pass/barcode02/barcode02_filtered.fasta -out ../../alignments/FAH15473/pass/barcode02/muscle_map.txt\n"
     ]
    }
   ],
   "source": [
    "cline = MuscleCommandline(input=\"../../analysis/filtered/Hu_FAH15473_albacore202/workspace/pass/barcode02/barcode02_filtered.fasta\", out=\"../../alignments/FAH15473/pass/barcode02/muscle_map.txt\")\n",
    "print(cline)"
   ]
  },
  {
   "cell_type": "code",
   "execution_count": null,
   "metadata": {},
   "outputs": [
    {
     "name": "stdout",
     "output_type": "stream",
     "text": [
      "\n",
      "MUSCLE v3.8.1551 by Robert C. Edgar\n",
      "\n",
      "http://www.drive5.com/muscle\n",
      "This software is donated to the public domain.\n",
      "Please cite: Edgar, R.C. Nucleic Acids Res 32(5), 1792-97.\n",
      "\n",
      "barcode02_filtered 1827 seqs, lengths min 2224, max 3970, avg 2833\n",
      "00:00:26    73 MB(-5%)  Iter   1  100.00%  K-mer dist pass 1\n",
      "00:00:26    73 MB(-5%)  Iter   1  100.00%  K-mer dist pass 2\n",
      "00:08:41  5621 MB(-375%)  Iter   1  100.00%  Align node\n",
      "00:08:46  5653 MB(-377%)  Iter   1  100.00%  Root alignment\n",
      "00:17:32  5666 MB(-378%)  Iter   2  100.00%  Refine tree\n",
      "00:17:36  5666 MB(-378%)  Iter   2  100.00%  Root alignment\n",
      "00:17:36  5666 MB(-378%)  Iter   2  100.00%  Root alignment\n"
     ]
    }
   ],
   "source": [
    "!{cline}"
   ]
  },
  {
   "cell_type": "code",
   "execution_count": null,
   "metadata": {},
   "outputs": [],
   "source": []
  }
 ],
 "metadata": {
  "kernelspec": {
   "display_name": "Python 3",
   "language": "python",
   "name": "python3"
  },
  "language_info": {
   "codemirror_mode": {
    "name": "ipython",
    "version": 3
   },
   "file_extension": ".py",
   "mimetype": "text/x-python",
   "name": "python",
   "nbconvert_exporter": "python",
   "pygments_lexer": "ipython3",
   "version": "3.7.0"
  }
 },
 "nbformat": 4,
 "nbformat_minor": 2
}
