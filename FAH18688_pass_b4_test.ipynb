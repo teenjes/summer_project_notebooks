{
 "cells": [
  {
   "cell_type": "code",
   "execution_count": 2,
   "metadata": {},
   "outputs": [],
   "source": [
    "import Bio\n",
    "from Bio import SeqIO\n",
    "import numpy as np\n",
    "import pandas\n",
    "from pandas import DataFrame as df\n",
    "import seaborn as sns\n",
    "import matplotlib.pyplot as plt"
   ]
  },
  {
   "cell_type": "code",
   "execution_count": 3,
   "metadata": {},
   "outputs": [],
   "source": [
    "fastq_dict = SeqIO.to_dict(SeqIO.parse(\"/media/MassStorage/tmp/TE/summer_project/raw_data/20171212_FAH18688_albacore202/workspace/pass/barcode04/barcode04.fastq\", \"fastq\"))"
   ]
  },
  {
   "cell_type": "code",
   "execution_count": 4,
   "metadata": {},
   "outputs": [],
   "source": [
    "lengths = []\n",
    "for key in fastq_dict:\n",
    "    lengths.append(len(fastq_dict[key].seq))"
   ]
  },
  {
   "cell_type": "code",
   "execution_count": 5,
   "metadata": {},
   "outputs": [],
   "source": [
    "fastq_lengths_dataframe = df(data=[\"%.2f\" % max(lengths), \"%.2f\" % min(lengths), \"%.2f\" % np.mean(lengths), \n",
    "                \"%.2f\" % np.median(lengths)], index=[\"max\", \"min\", \"mean\", \"median\"], \n",
    "                columns=[\"Value\"])"
   ]
  },
  {
   "cell_type": "code",
   "execution_count": 6,
   "metadata": {},
   "outputs": [
    {
     "data": {
      "text/html": [
       "<div>\n",
       "<style scoped>\n",
       "    .dataframe tbody tr th:only-of-type {\n",
       "        vertical-align: middle;\n",
       "    }\n",
       "\n",
       "    .dataframe tbody tr th {\n",
       "        vertical-align: top;\n",
       "    }\n",
       "\n",
       "    .dataframe thead th {\n",
       "        text-align: right;\n",
       "    }\n",
       "</style>\n",
       "<table border=\"1\" class=\"dataframe\">\n",
       "  <thead>\n",
       "    <tr style=\"text-align: right;\">\n",
       "      <th></th>\n",
       "      <th>Value</th>\n",
       "    </tr>\n",
       "  </thead>\n",
       "  <tbody>\n",
       "    <tr>\n",
       "      <th>max</th>\n",
       "      <td>6840.00</td>\n",
       "    </tr>\n",
       "    <tr>\n",
       "      <th>min</th>\n",
       "      <td>184.00</td>\n",
       "    </tr>\n",
       "    <tr>\n",
       "      <th>mean</th>\n",
       "      <td>1488.15</td>\n",
       "    </tr>\n",
       "    <tr>\n",
       "      <th>median</th>\n",
       "      <td>1123.00</td>\n",
       "    </tr>\n",
       "  </tbody>\n",
       "</table>\n",
       "</div>"
      ],
      "text/plain": [
       "          Value\n",
       "max     6840.00\n",
       "min      184.00\n",
       "mean    1488.15\n",
       "median  1123.00"
      ]
     },
     "execution_count": 6,
     "metadata": {},
     "output_type": "execute_result"
    }
   ],
   "source": [
    "fastq_lengths_dataframe"
   ]
  },
  {
   "cell_type": "code",
   "execution_count": 7,
   "metadata": {},
   "outputs": [],
   "source": [
    "data_tmp = []\n",
    "ids = []\n",
    "for record in SeqIO.parse(\"/media/MassStorage/tmp/TE/summer_project/raw_data/20171212_FAH18688_albacore202/workspace/pass/barcode04/barcode04.fastq\", \"fastq\"):\n",
    "    ids.append(record.id)\n",
    "for key in fastq_dict:\n",
    "    tmp = [\"%.2f\" % max(fastq_dict[key].letter_annotations[\"phred_quality\"]), \"%.2f\" % min(fastq_dict[key].letter_annotations[\"phred_quality\"]), \"%.2f\" % np.mean(fastq_dict[key].letter_annotations[\"phred_quality\"]), \n",
    "                \"%.2f\" % np.median(fastq_dict[key].letter_annotations[\"phred_quality\"])]\n",
    "    data_tmp.append(tmp)\n",
    "fastq_qscores_dataframe = df(data_tmp, columns=[\"Max\", \"Min\", \"Mean\", \"Median\"], index=ids)"
   ]
  },
  {
   "cell_type": "code",
   "execution_count": 8,
   "metadata": {},
   "outputs": [
    {
     "data": {
      "text/html": [
       "<div>\n",
       "<style scoped>\n",
       "    .dataframe tbody tr th:only-of-type {\n",
       "        vertical-align: middle;\n",
       "    }\n",
       "\n",
       "    .dataframe tbody tr th {\n",
       "        vertical-align: top;\n",
       "    }\n",
       "\n",
       "    .dataframe thead th {\n",
       "        text-align: right;\n",
       "    }\n",
       "</style>\n",
       "<table border=\"1\" class=\"dataframe\">\n",
       "  <thead>\n",
       "    <tr style=\"text-align: right;\">\n",
       "      <th></th>\n",
       "      <th>Max</th>\n",
       "      <th>Min</th>\n",
       "      <th>Mean</th>\n",
       "      <th>Median</th>\n",
       "    </tr>\n",
       "  </thead>\n",
       "  <tbody>\n",
       "    <tr>\n",
       "      <th>87dda115-7840-4577-a3e4-14ba2583c8e4</th>\n",
       "      <td>41.00</td>\n",
       "      <td>1.00</td>\n",
       "      <td>13.82</td>\n",
       "      <td>12.00</td>\n",
       "    </tr>\n",
       "    <tr>\n",
       "      <th>0d0e9df0-92ff-4246-b9b2-3e5795909cf4</th>\n",
       "      <td>40.00</td>\n",
       "      <td>1.00</td>\n",
       "      <td>16.63</td>\n",
       "      <td>16.00</td>\n",
       "    </tr>\n",
       "    <tr>\n",
       "      <th>31effe22-2c76-428c-a682-134cec7b1472</th>\n",
       "      <td>39.00</td>\n",
       "      <td>1.00</td>\n",
       "      <td>15.75</td>\n",
       "      <td>14.00</td>\n",
       "    </tr>\n",
       "    <tr>\n",
       "      <th>2cccc853-77ce-458d-aea5-4d7dbe6b4ee3</th>\n",
       "      <td>40.00</td>\n",
       "      <td>2.00</td>\n",
       "      <td>19.16</td>\n",
       "      <td>18.00</td>\n",
       "    </tr>\n",
       "    <tr>\n",
       "      <th>326ec80d-6e83-41c4-9e5a-89af056239b6</th>\n",
       "      <td>41.00</td>\n",
       "      <td>2.00</td>\n",
       "      <td>17.62</td>\n",
       "      <td>16.00</td>\n",
       "    </tr>\n",
       "    <tr>\n",
       "      <th>465a936f-00ab-4f64-82e9-0f6d2b4083e8</th>\n",
       "      <td>41.00</td>\n",
       "      <td>3.00</td>\n",
       "      <td>20.41</td>\n",
       "      <td>20.00</td>\n",
       "    </tr>\n",
       "    <tr>\n",
       "      <th>ae075a01-fef2-4662-9885-6e5213851733</th>\n",
       "      <td>41.00</td>\n",
       "      <td>1.00</td>\n",
       "      <td>16.39</td>\n",
       "      <td>14.00</td>\n",
       "    </tr>\n",
       "    <tr>\n",
       "      <th>a618ffe5-d49b-4b2c-abea-455298b1324b</th>\n",
       "      <td>40.00</td>\n",
       "      <td>2.00</td>\n",
       "      <td>16.14</td>\n",
       "      <td>15.00</td>\n",
       "    </tr>\n",
       "    <tr>\n",
       "      <th>986b2606-3f45-48b5-93de-164f4eaaf0f7</th>\n",
       "      <td>41.00</td>\n",
       "      <td>2.00</td>\n",
       "      <td>14.36</td>\n",
       "      <td>13.00</td>\n",
       "    </tr>\n",
       "    <tr>\n",
       "      <th>098dd757-d49c-48fb-a357-fea783c14d9e</th>\n",
       "      <td>41.00</td>\n",
       "      <td>2.00</td>\n",
       "      <td>18.80</td>\n",
       "      <td>18.00</td>\n",
       "    </tr>\n",
       "    <tr>\n",
       "      <th>13b3dc50-2c54-4fea-999a-b222de21f513</th>\n",
       "      <td>39.00</td>\n",
       "      <td>2.00</td>\n",
       "      <td>16.59</td>\n",
       "      <td>15.00</td>\n",
       "    </tr>\n",
       "    <tr>\n",
       "      <th>c1543632-b917-4daa-829f-e56bd3d02ba3</th>\n",
       "      <td>41.00</td>\n",
       "      <td>2.00</td>\n",
       "      <td>18.09</td>\n",
       "      <td>17.00</td>\n",
       "    </tr>\n",
       "    <tr>\n",
       "      <th>2e413a93-f6da-4578-8108-d9b15710940a</th>\n",
       "      <td>40.00</td>\n",
       "      <td>2.00</td>\n",
       "      <td>17.63</td>\n",
       "      <td>17.00</td>\n",
       "    </tr>\n",
       "    <tr>\n",
       "      <th>d74ca805-4b36-427c-ae4e-9d6bf2d57dd1</th>\n",
       "      <td>40.00</td>\n",
       "      <td>2.00</td>\n",
       "      <td>16.23</td>\n",
       "      <td>15.00</td>\n",
       "    </tr>\n",
       "    <tr>\n",
       "      <th>54a95d09-9df8-4c03-a81b-6216daefa59c</th>\n",
       "      <td>38.00</td>\n",
       "      <td>2.00</td>\n",
       "      <td>11.36</td>\n",
       "      <td>10.00</td>\n",
       "    </tr>\n",
       "    <tr>\n",
       "      <th>7c89dbaf-2297-4f4e-ac0e-a1f0f60afb5c</th>\n",
       "      <td>40.00</td>\n",
       "      <td>2.00</td>\n",
       "      <td>16.10</td>\n",
       "      <td>15.00</td>\n",
       "    </tr>\n",
       "    <tr>\n",
       "      <th>205991d4-c7c6-4542-8180-d597504c426c</th>\n",
       "      <td>40.00</td>\n",
       "      <td>2.00</td>\n",
       "      <td>14.38</td>\n",
       "      <td>13.00</td>\n",
       "    </tr>\n",
       "    <tr>\n",
       "      <th>356439cd-06a6-46dc-8812-c6775dc95ed4</th>\n",
       "      <td>39.00</td>\n",
       "      <td>1.00</td>\n",
       "      <td>10.95</td>\n",
       "      <td>10.00</td>\n",
       "    </tr>\n",
       "    <tr>\n",
       "      <th>3aa7b12d-6eaa-40f3-8b64-4c5407207f11</th>\n",
       "      <td>40.00</td>\n",
       "      <td>2.00</td>\n",
       "      <td>13.24</td>\n",
       "      <td>12.00</td>\n",
       "    </tr>\n",
       "    <tr>\n",
       "      <th>0c6e783b-8ce3-4e21-bf08-97961e847b09</th>\n",
       "      <td>36.00</td>\n",
       "      <td>2.00</td>\n",
       "      <td>13.69</td>\n",
       "      <td>12.00</td>\n",
       "    </tr>\n",
       "    <tr>\n",
       "      <th>8fedfd1c-e0b4-490f-98c7-9908085c6c75</th>\n",
       "      <td>38.00</td>\n",
       "      <td>1.00</td>\n",
       "      <td>10.83</td>\n",
       "      <td>10.00</td>\n",
       "    </tr>\n",
       "    <tr>\n",
       "      <th>debbf583-bbad-4b95-ac96-17966076d761</th>\n",
       "      <td>41.00</td>\n",
       "      <td>2.00</td>\n",
       "      <td>12.02</td>\n",
       "      <td>11.00</td>\n",
       "    </tr>\n",
       "    <tr>\n",
       "      <th>213c1bfe-29d6-4618-bdc5-bc924703da45</th>\n",
       "      <td>41.00</td>\n",
       "      <td>2.00</td>\n",
       "      <td>13.94</td>\n",
       "      <td>13.00</td>\n",
       "    </tr>\n",
       "    <tr>\n",
       "      <th>afb852bf-3e06-4e51-b681-2ffe0e5548fa</th>\n",
       "      <td>36.00</td>\n",
       "      <td>2.00</td>\n",
       "      <td>11.07</td>\n",
       "      <td>10.00</td>\n",
       "    </tr>\n",
       "    <tr>\n",
       "      <th>1425a39a-0183-4303-8ca5-2123e0b561b6</th>\n",
       "      <td>38.00</td>\n",
       "      <td>1.00</td>\n",
       "      <td>10.79</td>\n",
       "      <td>9.00</td>\n",
       "    </tr>\n",
       "    <tr>\n",
       "      <th>1b8ee96e-cac0-4fe9-bdfa-82d1f2d22b46</th>\n",
       "      <td>38.00</td>\n",
       "      <td>1.00</td>\n",
       "      <td>14.47</td>\n",
       "      <td>13.00</td>\n",
       "    </tr>\n",
       "    <tr>\n",
       "      <th>7bf3c162-7361-413c-b5c8-78c52db38118</th>\n",
       "      <td>41.00</td>\n",
       "      <td>1.00</td>\n",
       "      <td>14.01</td>\n",
       "      <td>12.00</td>\n",
       "    </tr>\n",
       "    <tr>\n",
       "      <th>9cc6b619-68cf-4588-beab-b36802090fa0</th>\n",
       "      <td>37.00</td>\n",
       "      <td>1.00</td>\n",
       "      <td>11.35</td>\n",
       "      <td>10.00</td>\n",
       "    </tr>\n",
       "    <tr>\n",
       "      <th>da61ace3-b890-4b3a-9a76-a50468be0520</th>\n",
       "      <td>41.00</td>\n",
       "      <td>1.00</td>\n",
       "      <td>10.78</td>\n",
       "      <td>9.00</td>\n",
       "    </tr>\n",
       "    <tr>\n",
       "      <th>234344ca-f345-4bec-8d5e-0b7efa94536c</th>\n",
       "      <td>38.00</td>\n",
       "      <td>1.00</td>\n",
       "      <td>14.00</td>\n",
       "      <td>12.00</td>\n",
       "    </tr>\n",
       "    <tr>\n",
       "      <th>...</th>\n",
       "      <td>...</td>\n",
       "      <td>...</td>\n",
       "      <td>...</td>\n",
       "      <td>...</td>\n",
       "    </tr>\n",
       "    <tr>\n",
       "      <th>e6baf261-e150-4185-988e-461b458b0c4c</th>\n",
       "      <td>38.00</td>\n",
       "      <td>1.00</td>\n",
       "      <td>12.80</td>\n",
       "      <td>11.00</td>\n",
       "    </tr>\n",
       "    <tr>\n",
       "      <th>a6ad241e-353e-4ed9-ad27-0e7f759b7603</th>\n",
       "      <td>38.00</td>\n",
       "      <td>1.00</td>\n",
       "      <td>17.20</td>\n",
       "      <td>16.00</td>\n",
       "    </tr>\n",
       "    <tr>\n",
       "      <th>eed753f7-2001-4622-a148-5f6a12e81818</th>\n",
       "      <td>40.00</td>\n",
       "      <td>1.00</td>\n",
       "      <td>12.91</td>\n",
       "      <td>11.00</td>\n",
       "    </tr>\n",
       "    <tr>\n",
       "      <th>4f78fcb1-6043-43c0-9e5b-a1d0648c2343</th>\n",
       "      <td>41.00</td>\n",
       "      <td>2.00</td>\n",
       "      <td>16.82</td>\n",
       "      <td>15.00</td>\n",
       "    </tr>\n",
       "    <tr>\n",
       "      <th>d5b025f8-3fcb-4546-a2e1-13a67555387d</th>\n",
       "      <td>40.00</td>\n",
       "      <td>1.00</td>\n",
       "      <td>13.48</td>\n",
       "      <td>12.00</td>\n",
       "    </tr>\n",
       "    <tr>\n",
       "      <th>afcbf903-f4df-45cb-b231-7c944c3beb8b</th>\n",
       "      <td>39.00</td>\n",
       "      <td>1.00</td>\n",
       "      <td>16.51</td>\n",
       "      <td>15.00</td>\n",
       "    </tr>\n",
       "    <tr>\n",
       "      <th>f4d803df-b345-4ad2-8897-0e3d0663a9c5</th>\n",
       "      <td>38.00</td>\n",
       "      <td>2.00</td>\n",
       "      <td>12.96</td>\n",
       "      <td>11.00</td>\n",
       "    </tr>\n",
       "    <tr>\n",
       "      <th>a865d582-95ce-43cd-8671-b9f3761ccfba</th>\n",
       "      <td>40.00</td>\n",
       "      <td>2.00</td>\n",
       "      <td>15.50</td>\n",
       "      <td>14.00</td>\n",
       "    </tr>\n",
       "    <tr>\n",
       "      <th>6d2c50a1-c0ff-4808-a337-8418789d9257</th>\n",
       "      <td>40.00</td>\n",
       "      <td>2.00</td>\n",
       "      <td>13.85</td>\n",
       "      <td>12.00</td>\n",
       "    </tr>\n",
       "    <tr>\n",
       "      <th>7b3be645-fa1c-4dea-a7e5-e95c79d31676</th>\n",
       "      <td>38.00</td>\n",
       "      <td>1.00</td>\n",
       "      <td>11.91</td>\n",
       "      <td>10.00</td>\n",
       "    </tr>\n",
       "    <tr>\n",
       "      <th>d931339c-e47e-45a6-bb56-1b1d068bf010</th>\n",
       "      <td>39.00</td>\n",
       "      <td>2.00</td>\n",
       "      <td>16.09</td>\n",
       "      <td>15.00</td>\n",
       "    </tr>\n",
       "    <tr>\n",
       "      <th>636c6ea8-00f6-4170-bd70-aee483a6b53e</th>\n",
       "      <td>40.00</td>\n",
       "      <td>2.00</td>\n",
       "      <td>14.03</td>\n",
       "      <td>12.00</td>\n",
       "    </tr>\n",
       "    <tr>\n",
       "      <th>fe0a72e2-9bce-4422-bf10-bf500804c36a</th>\n",
       "      <td>40.00</td>\n",
       "      <td>2.00</td>\n",
       "      <td>12.46</td>\n",
       "      <td>11.00</td>\n",
       "    </tr>\n",
       "    <tr>\n",
       "      <th>dabe34ee-09f9-47d1-b27c-a8c6a454fe80</th>\n",
       "      <td>40.00</td>\n",
       "      <td>2.00</td>\n",
       "      <td>16.53</td>\n",
       "      <td>15.00</td>\n",
       "    </tr>\n",
       "    <tr>\n",
       "      <th>ea96967d-5723-47a1-9cb7-fe126b8b9552</th>\n",
       "      <td>37.00</td>\n",
       "      <td>2.00</td>\n",
       "      <td>12.70</td>\n",
       "      <td>11.00</td>\n",
       "    </tr>\n",
       "    <tr>\n",
       "      <th>a1879774-0ee0-49cf-9d83-819eb734d925</th>\n",
       "      <td>40.00</td>\n",
       "      <td>1.00</td>\n",
       "      <td>12.70</td>\n",
       "      <td>11.00</td>\n",
       "    </tr>\n",
       "    <tr>\n",
       "      <th>ce9dc769-69d8-4e86-9e3a-2755eadea8ea</th>\n",
       "      <td>35.00</td>\n",
       "      <td>1.00</td>\n",
       "      <td>12.16</td>\n",
       "      <td>10.50</td>\n",
       "    </tr>\n",
       "    <tr>\n",
       "      <th>5f286c7a-dd6c-45d3-9f38-7abeffb84bed</th>\n",
       "      <td>41.00</td>\n",
       "      <td>1.00</td>\n",
       "      <td>17.48</td>\n",
       "      <td>17.00</td>\n",
       "    </tr>\n",
       "    <tr>\n",
       "      <th>b3f4287a-c8e0-4146-a66b-8bf41084d21a</th>\n",
       "      <td>34.00</td>\n",
       "      <td>1.00</td>\n",
       "      <td>12.22</td>\n",
       "      <td>11.00</td>\n",
       "    </tr>\n",
       "    <tr>\n",
       "      <th>3c43a039-8d62-4a85-b2ad-e211ac6b4267</th>\n",
       "      <td>39.00</td>\n",
       "      <td>2.00</td>\n",
       "      <td>18.66</td>\n",
       "      <td>18.00</td>\n",
       "    </tr>\n",
       "    <tr>\n",
       "      <th>51c185fc-d462-42bf-a8a2-58ee9c7846d6</th>\n",
       "      <td>39.00</td>\n",
       "      <td>1.00</td>\n",
       "      <td>10.30</td>\n",
       "      <td>9.00</td>\n",
       "    </tr>\n",
       "    <tr>\n",
       "      <th>93fd1252-74da-49af-800f-bf1c26a5ffd1</th>\n",
       "      <td>40.00</td>\n",
       "      <td>2.00</td>\n",
       "      <td>17.60</td>\n",
       "      <td>17.00</td>\n",
       "    </tr>\n",
       "    <tr>\n",
       "      <th>42db4ed7-7dde-4a5e-9f8e-5e24db047c11</th>\n",
       "      <td>41.00</td>\n",
       "      <td>2.00</td>\n",
       "      <td>15.67</td>\n",
       "      <td>14.00</td>\n",
       "    </tr>\n",
       "    <tr>\n",
       "      <th>9f4ff9e1-17db-41fd-bb7d-2223e58d92c3</th>\n",
       "      <td>41.00</td>\n",
       "      <td>1.00</td>\n",
       "      <td>15.21</td>\n",
       "      <td>14.00</td>\n",
       "    </tr>\n",
       "    <tr>\n",
       "      <th>afc71ac1-356f-42a8-b890-b58761894139</th>\n",
       "      <td>36.00</td>\n",
       "      <td>2.00</td>\n",
       "      <td>11.34</td>\n",
       "      <td>10.00</td>\n",
       "    </tr>\n",
       "    <tr>\n",
       "      <th>5fc6e46e-bb3c-42a6-90fe-a33242326e00</th>\n",
       "      <td>41.00</td>\n",
       "      <td>2.00</td>\n",
       "      <td>15.77</td>\n",
       "      <td>14.00</td>\n",
       "    </tr>\n",
       "    <tr>\n",
       "      <th>6b53cb40-d087-4650-8b0f-0c645af95d28</th>\n",
       "      <td>40.00</td>\n",
       "      <td>1.00</td>\n",
       "      <td>15.59</td>\n",
       "      <td>14.00</td>\n",
       "    </tr>\n",
       "    <tr>\n",
       "      <th>74472170-2904-48ff-9773-7e89fd34ee4e</th>\n",
       "      <td>41.00</td>\n",
       "      <td>2.00</td>\n",
       "      <td>18.06</td>\n",
       "      <td>16.00</td>\n",
       "    </tr>\n",
       "    <tr>\n",
       "      <th>c746daa3-e398-4c3b-aae8-6ddfcb8a5cd5</th>\n",
       "      <td>38.00</td>\n",
       "      <td>3.00</td>\n",
       "      <td>16.07</td>\n",
       "      <td>15.00</td>\n",
       "    </tr>\n",
       "    <tr>\n",
       "      <th>caba0501-c7b0-4584-b402-f728097c964c</th>\n",
       "      <td>40.00</td>\n",
       "      <td>1.00</td>\n",
       "      <td>13.11</td>\n",
       "      <td>11.00</td>\n",
       "    </tr>\n",
       "  </tbody>\n",
       "</table>\n",
       "<p>107990 rows × 4 columns</p>\n",
       "</div>"
      ],
      "text/plain": [
       "                                        Max   Min   Mean Median\n",
       "87dda115-7840-4577-a3e4-14ba2583c8e4  41.00  1.00  13.82  12.00\n",
       "0d0e9df0-92ff-4246-b9b2-3e5795909cf4  40.00  1.00  16.63  16.00\n",
       "31effe22-2c76-428c-a682-134cec7b1472  39.00  1.00  15.75  14.00\n",
       "2cccc853-77ce-458d-aea5-4d7dbe6b4ee3  40.00  2.00  19.16  18.00\n",
       "326ec80d-6e83-41c4-9e5a-89af056239b6  41.00  2.00  17.62  16.00\n",
       "465a936f-00ab-4f64-82e9-0f6d2b4083e8  41.00  3.00  20.41  20.00\n",
       "ae075a01-fef2-4662-9885-6e5213851733  41.00  1.00  16.39  14.00\n",
       "a618ffe5-d49b-4b2c-abea-455298b1324b  40.00  2.00  16.14  15.00\n",
       "986b2606-3f45-48b5-93de-164f4eaaf0f7  41.00  2.00  14.36  13.00\n",
       "098dd757-d49c-48fb-a357-fea783c14d9e  41.00  2.00  18.80  18.00\n",
       "13b3dc50-2c54-4fea-999a-b222de21f513  39.00  2.00  16.59  15.00\n",
       "c1543632-b917-4daa-829f-e56bd3d02ba3  41.00  2.00  18.09  17.00\n",
       "2e413a93-f6da-4578-8108-d9b15710940a  40.00  2.00  17.63  17.00\n",
       "d74ca805-4b36-427c-ae4e-9d6bf2d57dd1  40.00  2.00  16.23  15.00\n",
       "54a95d09-9df8-4c03-a81b-6216daefa59c  38.00  2.00  11.36  10.00\n",
       "7c89dbaf-2297-4f4e-ac0e-a1f0f60afb5c  40.00  2.00  16.10  15.00\n",
       "205991d4-c7c6-4542-8180-d597504c426c  40.00  2.00  14.38  13.00\n",
       "356439cd-06a6-46dc-8812-c6775dc95ed4  39.00  1.00  10.95  10.00\n",
       "3aa7b12d-6eaa-40f3-8b64-4c5407207f11  40.00  2.00  13.24  12.00\n",
       "0c6e783b-8ce3-4e21-bf08-97961e847b09  36.00  2.00  13.69  12.00\n",
       "8fedfd1c-e0b4-490f-98c7-9908085c6c75  38.00  1.00  10.83  10.00\n",
       "debbf583-bbad-4b95-ac96-17966076d761  41.00  2.00  12.02  11.00\n",
       "213c1bfe-29d6-4618-bdc5-bc924703da45  41.00  2.00  13.94  13.00\n",
       "afb852bf-3e06-4e51-b681-2ffe0e5548fa  36.00  2.00  11.07  10.00\n",
       "1425a39a-0183-4303-8ca5-2123e0b561b6  38.00  1.00  10.79   9.00\n",
       "1b8ee96e-cac0-4fe9-bdfa-82d1f2d22b46  38.00  1.00  14.47  13.00\n",
       "7bf3c162-7361-413c-b5c8-78c52db38118  41.00  1.00  14.01  12.00\n",
       "9cc6b619-68cf-4588-beab-b36802090fa0  37.00  1.00  11.35  10.00\n",
       "da61ace3-b890-4b3a-9a76-a50468be0520  41.00  1.00  10.78   9.00\n",
       "234344ca-f345-4bec-8d5e-0b7efa94536c  38.00  1.00  14.00  12.00\n",
       "...                                     ...   ...    ...    ...\n",
       "e6baf261-e150-4185-988e-461b458b0c4c  38.00  1.00  12.80  11.00\n",
       "a6ad241e-353e-4ed9-ad27-0e7f759b7603  38.00  1.00  17.20  16.00\n",
       "eed753f7-2001-4622-a148-5f6a12e81818  40.00  1.00  12.91  11.00\n",
       "4f78fcb1-6043-43c0-9e5b-a1d0648c2343  41.00  2.00  16.82  15.00\n",
       "d5b025f8-3fcb-4546-a2e1-13a67555387d  40.00  1.00  13.48  12.00\n",
       "afcbf903-f4df-45cb-b231-7c944c3beb8b  39.00  1.00  16.51  15.00\n",
       "f4d803df-b345-4ad2-8897-0e3d0663a9c5  38.00  2.00  12.96  11.00\n",
       "a865d582-95ce-43cd-8671-b9f3761ccfba  40.00  2.00  15.50  14.00\n",
       "6d2c50a1-c0ff-4808-a337-8418789d9257  40.00  2.00  13.85  12.00\n",
       "7b3be645-fa1c-4dea-a7e5-e95c79d31676  38.00  1.00  11.91  10.00\n",
       "d931339c-e47e-45a6-bb56-1b1d068bf010  39.00  2.00  16.09  15.00\n",
       "636c6ea8-00f6-4170-bd70-aee483a6b53e  40.00  2.00  14.03  12.00\n",
       "fe0a72e2-9bce-4422-bf10-bf500804c36a  40.00  2.00  12.46  11.00\n",
       "dabe34ee-09f9-47d1-b27c-a8c6a454fe80  40.00  2.00  16.53  15.00\n",
       "ea96967d-5723-47a1-9cb7-fe126b8b9552  37.00  2.00  12.70  11.00\n",
       "a1879774-0ee0-49cf-9d83-819eb734d925  40.00  1.00  12.70  11.00\n",
       "ce9dc769-69d8-4e86-9e3a-2755eadea8ea  35.00  1.00  12.16  10.50\n",
       "5f286c7a-dd6c-45d3-9f38-7abeffb84bed  41.00  1.00  17.48  17.00\n",
       "b3f4287a-c8e0-4146-a66b-8bf41084d21a  34.00  1.00  12.22  11.00\n",
       "3c43a039-8d62-4a85-b2ad-e211ac6b4267  39.00  2.00  18.66  18.00\n",
       "51c185fc-d462-42bf-a8a2-58ee9c7846d6  39.00  1.00  10.30   9.00\n",
       "93fd1252-74da-49af-800f-bf1c26a5ffd1  40.00  2.00  17.60  17.00\n",
       "42db4ed7-7dde-4a5e-9f8e-5e24db047c11  41.00  2.00  15.67  14.00\n",
       "9f4ff9e1-17db-41fd-bb7d-2223e58d92c3  41.00  1.00  15.21  14.00\n",
       "afc71ac1-356f-42a8-b890-b58761894139  36.00  2.00  11.34  10.00\n",
       "5fc6e46e-bb3c-42a6-90fe-a33242326e00  41.00  2.00  15.77  14.00\n",
       "6b53cb40-d087-4650-8b0f-0c645af95d28  40.00  1.00  15.59  14.00\n",
       "74472170-2904-48ff-9773-7e89fd34ee4e  41.00  2.00  18.06  16.00\n",
       "c746daa3-e398-4c3b-aae8-6ddfcb8a5cd5  38.00  3.00  16.07  15.00\n",
       "caba0501-c7b0-4584-b402-f728097c964c  40.00  1.00  13.11  11.00\n",
       "\n",
       "[107990 rows x 4 columns]"
      ]
     },
     "execution_count": 8,
     "metadata": {},
     "output_type": "execute_result"
    }
   ],
   "source": [
    "fastq_qscores_dataframe"
   ]
  },
  {
   "cell_type": "code",
   "execution_count": 9,
   "metadata": {},
   "outputs": [],
   "source": [
    "mean_qscores = []\n",
    "for key in fastq_dict:\n",
    "    mean_qscores.append(np.mean(fastq_dict[key].letter_annotations[\"phred_quality\"]))"
   ]
  },
  {
   "cell_type": "code",
   "execution_count": 10,
   "metadata": {},
   "outputs": [
    {
     "name": "stderr",
     "output_type": "stream",
     "text": [
      "/home/tavish/anaconda3/lib/python3.7/site-packages/scipy/stats/stats.py:1713: FutureWarning: Using a non-tuple sequence for multidimensional indexing is deprecated; use `arr[tuple(seq)]` instead of `arr[seq]`. In the future this will be interpreted as an array index, `arr[np.array(seq)]`, which will result either in an error or a different result.\n",
      "  return np.add.reduce(sorted[indexer] * weights, axis=axis) / sumval\n"
     ]
    },
    {
     "data": {
      "text/plain": [
       "<matplotlib.axes._subplots.AxesSubplot at 0x7f9d8634dfd0>"
      ]
     },
     "execution_count": 10,
     "metadata": {},
     "output_type": "execute_result"
    },
    {
     "data": {
      "image/png": "[encoded data removed]",
      "text/plain": [
       "<Figure size 432x288 with 1 Axes>"
      ]
     },
     "metadata": {
      "needs_background": "light"
     },
     "output_type": "display_data"
    }
   ],
   "source": [
    "sns.distplot(lengths, color=\"k\")"
   ]
  },
  {
   "cell_type": "code",
   "execution_count": 11,
   "metadata": {},
   "outputs": [
    {
     "name": "stderr",
     "output_type": "stream",
     "text": [
      "/home/tavish/anaconda3/lib/python3.7/site-packages/scipy/stats/stats.py:1713: FutureWarning: Using a non-tuple sequence for multidimensional indexing is deprecated; use `arr[tuple(seq)]` instead of `arr[seq]`. In the future this will be interpreted as an array index, `arr[np.array(seq)]`, which will result either in an error or a different result.\n",
      "  return np.add.reduce(sorted[indexer] * weights, axis=axis) / sumval\n"
     ]
    },
    {
     "data": {
      "text/plain": [
       "Text(0,0.5,'Frequency')"
      ]
     },
     "execution_count": 11,
     "metadata": {},
     "output_type": "execute_result"
    },
    {
     "data": {
      "image/png": "[encoded data removed]",
      "text/plain": [
       "<Figure size 432x288 with 1 Axes>"
      ]
     },
     "metadata": {
      "needs_background": "light"
     },
     "output_type": "display_data"
    }
   ],
   "source": [
    "ax = sns.distplot(mean_qscores, color=\"k\")\n",
    "ax.set_xlabel(\"Q Score\")\n",
    "ax.set_ylabel(\"Frequency\")"
   ]
  },
  {
   "cell_type": "code",
   "execution_count": 14,
   "metadata": {},
   "outputs": [
    {
     "data": {
      "text/plain": [
       "numpy.float64"
      ]
     },
     "execution_count": 14,
     "metadata": {},
     "output_type": "execute_result"
    }
   ],
   "source": [
    "type(mean_qscores[0])"
   ]
  },
  {
   "cell_type": "code",
   "execution_count": 11,
   "metadata": {},
   "outputs": [
    {
     "name": "stderr",
     "output_type": "stream",
     "text": [
      "/home/tavish/anaconda3/lib/python3.7/site-packages/scipy/stats/stats.py:1713: FutureWarning: Using a non-tuple sequence for multidimensional indexing is deprecated; use `arr[tuple(seq)]` instead of `arr[seq]`. In the future this will be interpreted as an array index, `arr[np.array(seq)]`, which will result either in an error or a different result.\n",
      "  return np.add.reduce(sorted[indexer] * weights, axis=axis) / sumval\n"
     ]
    },
    {
     "data": {
      "text/plain": [
       "<seaborn.axisgrid.JointGrid at 0x7fccee69e5f8>"
      ]
     },
     "execution_count": 11,
     "metadata": {},
     "output_type": "execute_result"
    },
    {
     "data": {
      "image/png": "[encoded data removed]",
      "text/plain": [
       "<Figure size 432x432 with 3 Axes>"
      ]
     },
     "metadata": {
      "needs_background": "light"
     },
     "output_type": "display_data"
    }
   ],
   "source": [
    "sns.jointplot(x=lengths, y=mean_qscores, color=\"k\")"
   ]
  },
  {
   "cell_type": "code",
   "execution_count": 12,
   "metadata": {},
   "outputs": [
    {
     "name": "stderr",
     "output_type": "stream",
     "text": [
      "/home/tavish/anaconda3/lib/python3.7/site-packages/scipy/stats/stats.py:1713: FutureWarning: Using a non-tuple sequence for multidimensional indexing is deprecated; use `arr[tuple(seq)]` instead of `arr[seq]`. In the future this will be interpreted as an array index, `arr[np.array(seq)]`, which will result either in an error or a different result.\n",
      "  return np.add.reduce(sorted[indexer] * weights, axis=axis) / sumval\n"
     ]
    },
    {
     "data": {
      "text/plain": [
       "<seaborn.axisgrid.JointGrid at 0x7fccee51a400>"
      ]
     },
     "execution_count": 12,
     "metadata": {},
     "output_type": "execute_result"
    },
    {
     "data": {
      "image/png": "[encoded data removed]",
      "text/plain": [
       "<Figure size 432x432 with 3 Axes>"
      ]
     },
     "metadata": {
      "needs_background": "light"
     },
     "output_type": "display_data"
    }
   ],
   "source": [
    "sns.jointplot(x=lengths, y=mean_qscores, kind=\"kde\", color=\"k\")"
   ]
  },
  {
   "cell_type": "code",
   "execution_count": 13,
   "metadata": {},
   "outputs": [
    {
     "name": "stderr",
     "output_type": "stream",
     "text": [
      "/home/tavish/anaconda3/lib/python3.7/site-packages/scipy/stats/stats.py:1713: FutureWarning: Using a non-tuple sequence for multidimensional indexing is deprecated; use `arr[tuple(seq)]` instead of `arr[seq]`. In the future this will be interpreted as an array index, `arr[np.array(seq)]`, which will result either in an error or a different result.\n",
      "  return np.add.reduce(sorted[indexer] * weights, axis=axis) / sumval\n"
     ]
    },
    {
     "data": {
      "text/plain": [
       "<seaborn.axisgrid.JointGrid at 0x7fccee35a668>"
      ]
     },
     "execution_count": 13,
     "metadata": {},
     "output_type": "execute_result"
    },
    {
     "data": {
      "image/png": "[encoded data removed]",
      "text/plain": [
       "<Figure size 432x432 with 3 Axes>"
      ]
     },
     "metadata": {
      "needs_background": "light"
     },
     "output_type": "display_data"
    }
   ],
   "source": [
    "sns.jointplot(x=lengths, y=mean_qscores, kind=\"hex\", color=\"k\")"
   ]
  }
 ],
 "metadata": {
  "kernelspec": {
   "display_name": "Python 3",
   "language": "python",
   "name": "python3"
  },
  "language_info": {
   "codemirror_mode": {
    "name": "ipython",
    "version": 3
   },
   "file_extension": ".py",
   "mimetype": "text/x-python",
   "name": "python",
   "nbconvert_exporter": "python",
   "pygments_lexer": "ipython3",
   "version": "3.7.0"
  }
 },
 "nbformat": 4,
 "nbformat_minor": 2
}
