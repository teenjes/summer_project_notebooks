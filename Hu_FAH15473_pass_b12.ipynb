{
 "cells": [
  {
   "cell_type": "code",
   "execution_count": 1,
   "metadata": {},
   "outputs": [],
   "source": [
    "import Bio\n",
    "from Bio import SeqIO\n",
    "import numpy as np\n",
    "import pandas\n",
    "from pandas import DataFrame as df\n",
    "import seaborn as sns\n",
    "import matplotlib.pyplot as plt"
   ]
  },
  {
   "cell_type": "code",
   "execution_count": 2,
   "metadata": {},
   "outputs": [],
   "source": [
    "fastq_dict = SeqIO.to_dict(SeqIO.parse(\"/media/MassStorage/tmp/TE/summer_project/raw_data/Hu_FAH15473_albacore202/workspace/pass/barcode12/barcode12.fastq\", \"fastq\"))"
   ]
  },
  {
   "cell_type": "code",
   "execution_count": 4,
   "metadata": {},
   "outputs": [
    {
     "data": {
      "text/plain": [
       "221469"
      ]
     },
     "execution_count": 4,
     "metadata": {},
     "output_type": "execute_result"
    }
   ],
   "source": [
    "lengths = []\n",
    "for key in fastq_dict:\n",
    "    lengths.append(len(fastq_dict[key].seq))\n",
    "len(lengths)"
   ]
  },
  {
   "cell_type": "code",
   "execution_count": 5,
   "metadata": {},
   "outputs": [],
   "source": [
    "fastq_lengths_dataframe = df(data=[\"%.2f\" % max(lengths), \"%.2f\" % min(lengths), \"%.2f\" % np.mean(lengths), \n",
    "                \"%.2f\" % np.median(lengths)], index=[\"max\", \"min\", \"mean\", \"median\"], \n",
    "                columns=[\"Value\"])"
   ]
  },
  {
   "cell_type": "code",
   "execution_count": 6,
   "metadata": {},
   "outputs": [
    {
     "data": {
      "text/html": [
       "<div>\n",
       "<style scoped>\n",
       "    .dataframe tbody tr th:only-of-type {\n",
       "        vertical-align: middle;\n",
       "    }\n",
       "\n",
       "    .dataframe tbody tr th {\n",
       "        vertical-align: top;\n",
       "    }\n",
       "\n",
       "    .dataframe thead th {\n",
       "        text-align: right;\n",
       "    }\n",
       "</style>\n",
       "<table border=\"1\" class=\"dataframe\">\n",
       "  <thead>\n",
       "    <tr style=\"text-align: right;\">\n",
       "      <th></th>\n",
       "      <th>Value</th>\n",
       "    </tr>\n",
       "  </thead>\n",
       "  <tbody>\n",
       "    <tr>\n",
       "      <th>max</th>\n",
       "      <td>8651.00</td>\n",
       "    </tr>\n",
       "    <tr>\n",
       "      <th>min</th>\n",
       "      <td>92.00</td>\n",
       "    </tr>\n",
       "    <tr>\n",
       "      <th>mean</th>\n",
       "      <td>1852.70</td>\n",
       "    </tr>\n",
       "    <tr>\n",
       "      <th>median</th>\n",
       "      <td>1170.00</td>\n",
       "    </tr>\n",
       "  </tbody>\n",
       "</table>\n",
       "</div>"
      ],
      "text/plain": [
       "          Value\n",
       "max     8651.00\n",
       "min       92.00\n",
       "mean    1852.70\n",
       "median  1170.00"
      ]
     },
     "execution_count": 6,
     "metadata": {},
     "output_type": "execute_result"
    }
   ],
   "source": [
    "fastq_lengths_dataframe"
   ]
  },
  {
   "cell_type": "code",
   "execution_count": 45,
   "metadata": {},
   "outputs": [],
   "source": [
    "data_tmp = []\n",
    "ids = []\n",
    "for record in SeqIO.parse(\"/media/MassStorage/tmp/TE/summer_project/raw_data/Hu_FAH15473_albacore202/workspace/pass/barcode12/barcode12.fastq\", \"fastq\"):\n",
    "    ids.append(record.id)\n",
    "for key in fastq_dict:\n",
    "    tmp = [\"%.2f\" % max(fastq_dict[key].letter_annotations[\"phred_quality\"]), \"%.2f\" % min(fastq_dict[key].letter_annotations[\"phred_quality\"]), \"%.2f\" % np.mean(fastq_dict[key].letter_annotations[\"phred_quality\"]), \n",
    "                \"%.2f\" % np.median(fastq_dict[key].letter_annotations[\"phred_quality\"])]\n",
    "    data_tmp.append(tmp)\n",
    "fastq_qscores_dataframe = df(data_tmp, columns=[\"Max\", \"Min\", \"Mean\", \"Median\"], index=ids)"
   ]
  },
  {
   "cell_type": "code",
   "execution_count": 46,
   "metadata": {},
   "outputs": [
    {
     "data": {
      "text/html": [
       "<div>\n",
       "<style scoped>\n",
       "    .dataframe tbody tr th:only-of-type {\n",
       "        vertical-align: middle;\n",
       "    }\n",
       "\n",
       "    .dataframe tbody tr th {\n",
       "        vertical-align: top;\n",
       "    }\n",
       "\n",
       "    .dataframe thead th {\n",
       "        text-align: right;\n",
       "    }\n",
       "</style>\n",
       "<table border=\"1\" class=\"dataframe\">\n",
       "  <thead>\n",
       "    <tr style=\"text-align: right;\">\n",
       "      <th></th>\n",
       "      <th>Max</th>\n",
       "      <th>Min</th>\n",
       "      <th>Mean</th>\n",
       "      <th>Median</th>\n",
       "    </tr>\n",
       "  </thead>\n",
       "  <tbody>\n",
       "    <tr>\n",
       "      <th>10bda225-f3e0-4347-97e2-53a9acd3c747</th>\n",
       "      <td>32.00</td>\n",
       "      <td>3.00</td>\n",
       "      <td>14.52</td>\n",
       "      <td>14.00</td>\n",
       "    </tr>\n",
       "    <tr>\n",
       "      <th>4e22523b-94e2-4020-8a7c-62d2de641cfd</th>\n",
       "      <td>29.00</td>\n",
       "      <td>2.00</td>\n",
       "      <td>10.82</td>\n",
       "      <td>10.00</td>\n",
       "    </tr>\n",
       "    <tr>\n",
       "      <th>92f534e6-0e0d-4afa-b5d4-dd7da846c6c0</th>\n",
       "      <td>31.00</td>\n",
       "      <td>3.00</td>\n",
       "      <td>11.90</td>\n",
       "      <td>11.00</td>\n",
       "    </tr>\n",
       "    <tr>\n",
       "      <th>3f994ab6-52f0-4e13-8073-d2e54807b914</th>\n",
       "      <td>32.00</td>\n",
       "      <td>2.00</td>\n",
       "      <td>15.84</td>\n",
       "      <td>15.00</td>\n",
       "    </tr>\n",
       "    <tr>\n",
       "      <th>eb6bda6a-7242-4b35-a725-be7914770b23</th>\n",
       "      <td>31.00</td>\n",
       "      <td>3.00</td>\n",
       "      <td>10.66</td>\n",
       "      <td>9.00</td>\n",
       "    </tr>\n",
       "    <tr>\n",
       "      <th>f34af693-9d2f-4e76-9dde-bba1e46dae21</th>\n",
       "      <td>32.00</td>\n",
       "      <td>3.00</td>\n",
       "      <td>14.79</td>\n",
       "      <td>14.00</td>\n",
       "    </tr>\n",
       "    <tr>\n",
       "      <th>60a50590-c718-491a-bba4-d3cad3d11fd7</th>\n",
       "      <td>33.00</td>\n",
       "      <td>3.00</td>\n",
       "      <td>15.85</td>\n",
       "      <td>15.00</td>\n",
       "    </tr>\n",
       "    <tr>\n",
       "      <th>62deb1a8-aa65-4c7b-af83-6f18185b211c</th>\n",
       "      <td>31.00</td>\n",
       "      <td>3.00</td>\n",
       "      <td>15.40</td>\n",
       "      <td>15.00</td>\n",
       "    </tr>\n",
       "    <tr>\n",
       "      <th>d6bb0df9-46a5-4f94-ad9e-39d7b2e8cfcd</th>\n",
       "      <td>32.00</td>\n",
       "      <td>3.00</td>\n",
       "      <td>12.96</td>\n",
       "      <td>12.00</td>\n",
       "    </tr>\n",
       "    <tr>\n",
       "      <th>1a068e6d-a249-4960-a934-838e684d84c4</th>\n",
       "      <td>33.00</td>\n",
       "      <td>3.00</td>\n",
       "      <td>14.87</td>\n",
       "      <td>14.00</td>\n",
       "    </tr>\n",
       "    <tr>\n",
       "      <th>4b820c49-72f8-45b2-b9eb-923cfffdaade</th>\n",
       "      <td>32.00</td>\n",
       "      <td>3.00</td>\n",
       "      <td>15.99</td>\n",
       "      <td>15.00</td>\n",
       "    </tr>\n",
       "    <tr>\n",
       "      <th>1676411a-6335-4a97-961c-ed7760a2ba9a</th>\n",
       "      <td>32.00</td>\n",
       "      <td>3.00</td>\n",
       "      <td>15.29</td>\n",
       "      <td>14.00</td>\n",
       "    </tr>\n",
       "    <tr>\n",
       "      <th>61d1f49b-832b-4146-a647-40292a85fe99</th>\n",
       "      <td>31.00</td>\n",
       "      <td>2.00</td>\n",
       "      <td>15.49</td>\n",
       "      <td>15.00</td>\n",
       "    </tr>\n",
       "    <tr>\n",
       "      <th>e1d32f02-859e-40f9-a90c-ad106a175535</th>\n",
       "      <td>32.00</td>\n",
       "      <td>4.00</td>\n",
       "      <td>15.78</td>\n",
       "      <td>15.00</td>\n",
       "    </tr>\n",
       "    <tr>\n",
       "      <th>1040596d-91ec-4038-809a-a7c4cdf5e5a0</th>\n",
       "      <td>32.00</td>\n",
       "      <td>3.00</td>\n",
       "      <td>15.03</td>\n",
       "      <td>14.00</td>\n",
       "    </tr>\n",
       "    <tr>\n",
       "      <th>43bd498b-42a4-4e0a-ac50-92e980d441b2</th>\n",
       "      <td>32.00</td>\n",
       "      <td>3.00</td>\n",
       "      <td>15.39</td>\n",
       "      <td>14.00</td>\n",
       "    </tr>\n",
       "    <tr>\n",
       "      <th>8c73a1e0-301c-4172-be6a-593ecf602966</th>\n",
       "      <td>32.00</td>\n",
       "      <td>4.00</td>\n",
       "      <td>14.31</td>\n",
       "      <td>13.00</td>\n",
       "    </tr>\n",
       "    <tr>\n",
       "      <th>9357688e-2d8c-4a5f-9c5f-167bed924a45</th>\n",
       "      <td>32.00</td>\n",
       "      <td>3.00</td>\n",
       "      <td>16.16</td>\n",
       "      <td>15.00</td>\n",
       "    </tr>\n",
       "    <tr>\n",
       "      <th>afd61398-42c6-4ba7-a850-7f929d279e2c</th>\n",
       "      <td>32.00</td>\n",
       "      <td>3.00</td>\n",
       "      <td>14.56</td>\n",
       "      <td>14.00</td>\n",
       "    </tr>\n",
       "    <tr>\n",
       "      <th>b0e85658-db8f-4631-a349-f9bb2dbdd9f4</th>\n",
       "      <td>32.00</td>\n",
       "      <td>2.00</td>\n",
       "      <td>15.37</td>\n",
       "      <td>15.00</td>\n",
       "    </tr>\n",
       "    <tr>\n",
       "      <th>3598734e-50b5-43c4-b221-4184595cde91</th>\n",
       "      <td>31.00</td>\n",
       "      <td>3.00</td>\n",
       "      <td>15.08</td>\n",
       "      <td>14.00</td>\n",
       "    </tr>\n",
       "    <tr>\n",
       "      <th>ad2f217b-cbd5-44a5-b737-e046942f0f13</th>\n",
       "      <td>32.00</td>\n",
       "      <td>3.00</td>\n",
       "      <td>15.96</td>\n",
       "      <td>15.00</td>\n",
       "    </tr>\n",
       "    <tr>\n",
       "      <th>aaf02cea-952a-4982-84cd-68769c303a20</th>\n",
       "      <td>32.00</td>\n",
       "      <td>3.00</td>\n",
       "      <td>14.77</td>\n",
       "      <td>14.00</td>\n",
       "    </tr>\n",
       "    <tr>\n",
       "      <th>a9f2635e-453c-45d4-bca4-dec524426c3f</th>\n",
       "      <td>32.00</td>\n",
       "      <td>3.00</td>\n",
       "      <td>14.45</td>\n",
       "      <td>13.00</td>\n",
       "    </tr>\n",
       "    <tr>\n",
       "      <th>26796eb0-7ae7-451c-906e-6df5129d2f5d</th>\n",
       "      <td>32.00</td>\n",
       "      <td>2.00</td>\n",
       "      <td>15.70</td>\n",
       "      <td>15.00</td>\n",
       "    </tr>\n",
       "    <tr>\n",
       "      <th>64720da1-cb36-4d91-bdc4-71ce8a947d17</th>\n",
       "      <td>32.00</td>\n",
       "      <td>4.00</td>\n",
       "      <td>15.63</td>\n",
       "      <td>15.00</td>\n",
       "    </tr>\n",
       "    <tr>\n",
       "      <th>74102d47-989e-4bef-90d6-baea0d3adeb0</th>\n",
       "      <td>32.00</td>\n",
       "      <td>4.00</td>\n",
       "      <td>16.76</td>\n",
       "      <td>16.00</td>\n",
       "    </tr>\n",
       "    <tr>\n",
       "      <th>e35c4ebd-991b-40e1-a7fa-5e198f2fdf1b</th>\n",
       "      <td>32.00</td>\n",
       "      <td>3.00</td>\n",
       "      <td>16.32</td>\n",
       "      <td>16.00</td>\n",
       "    </tr>\n",
       "    <tr>\n",
       "      <th>a1c3c479-9ca4-431f-b13f-96723ed13880</th>\n",
       "      <td>31.00</td>\n",
       "      <td>3.00</td>\n",
       "      <td>15.23</td>\n",
       "      <td>14.00</td>\n",
       "    </tr>\n",
       "    <tr>\n",
       "      <th>91ccb89f-df18-4c5b-94fa-b56f26d81ae2</th>\n",
       "      <td>31.00</td>\n",
       "      <td>3.00</td>\n",
       "      <td>14.81</td>\n",
       "      <td>14.00</td>\n",
       "    </tr>\n",
       "    <tr>\n",
       "      <th>...</th>\n",
       "      <td>...</td>\n",
       "      <td>...</td>\n",
       "      <td>...</td>\n",
       "      <td>...</td>\n",
       "    </tr>\n",
       "    <tr>\n",
       "      <th>3fef8bc7-a1c8-4370-9cfb-9f1a2c805c19</th>\n",
       "      <td>31.00</td>\n",
       "      <td>2.00</td>\n",
       "      <td>9.70</td>\n",
       "      <td>9.00</td>\n",
       "    </tr>\n",
       "    <tr>\n",
       "      <th>146bbbc4-f191-4787-afcd-d2f5a4cd07ca</th>\n",
       "      <td>31.00</td>\n",
       "      <td>2.00</td>\n",
       "      <td>12.74</td>\n",
       "      <td>11.00</td>\n",
       "    </tr>\n",
       "    <tr>\n",
       "      <th>4b888526-005d-4ed4-9be0-e9e9105dc366</th>\n",
       "      <td>31.00</td>\n",
       "      <td>2.00</td>\n",
       "      <td>8.69</td>\n",
       "      <td>8.00</td>\n",
       "    </tr>\n",
       "    <tr>\n",
       "      <th>56e8ccc3-7249-4bbd-b10a-925777dea366</th>\n",
       "      <td>30.00</td>\n",
       "      <td>3.00</td>\n",
       "      <td>11.29</td>\n",
       "      <td>10.00</td>\n",
       "    </tr>\n",
       "    <tr>\n",
       "      <th>d544eb6c-0d30-4da2-bec0-73baf97dc33d</th>\n",
       "      <td>32.00</td>\n",
       "      <td>2.00</td>\n",
       "      <td>8.90</td>\n",
       "      <td>8.00</td>\n",
       "    </tr>\n",
       "    <tr>\n",
       "      <th>48f69b67-39e7-48e3-a6cd-832594145b4f</th>\n",
       "      <td>30.00</td>\n",
       "      <td>3.00</td>\n",
       "      <td>11.04</td>\n",
       "      <td>10.00</td>\n",
       "    </tr>\n",
       "    <tr>\n",
       "      <th>b1b1bfc2-7605-494b-9ca1-da4b04047965</th>\n",
       "      <td>29.00</td>\n",
       "      <td>2.00</td>\n",
       "      <td>9.01</td>\n",
       "      <td>8.00</td>\n",
       "    </tr>\n",
       "    <tr>\n",
       "      <th>c0e2bdf9-2f25-49f7-a873-f390c9f59711</th>\n",
       "      <td>26.00</td>\n",
       "      <td>2.00</td>\n",
       "      <td>8.47</td>\n",
       "      <td>8.00</td>\n",
       "    </tr>\n",
       "    <tr>\n",
       "      <th>c3a33e2f-0030-44a0-bc12-8722947a9a93</th>\n",
       "      <td>28.00</td>\n",
       "      <td>2.00</td>\n",
       "      <td>8.52</td>\n",
       "      <td>8.00</td>\n",
       "    </tr>\n",
       "    <tr>\n",
       "      <th>84998901-fea0-4b3a-aa54-25dfdbaa083b</th>\n",
       "      <td>32.00</td>\n",
       "      <td>3.00</td>\n",
       "      <td>11.65</td>\n",
       "      <td>10.00</td>\n",
       "    </tr>\n",
       "    <tr>\n",
       "      <th>089ed198-b52c-4eed-b103-d48fcd556991</th>\n",
       "      <td>32.00</td>\n",
       "      <td>3.00</td>\n",
       "      <td>9.46</td>\n",
       "      <td>8.00</td>\n",
       "    </tr>\n",
       "    <tr>\n",
       "      <th>9d0484c8-4f44-4019-a14e-0844edfa9416</th>\n",
       "      <td>32.00</td>\n",
       "      <td>3.00</td>\n",
       "      <td>11.25</td>\n",
       "      <td>10.00</td>\n",
       "    </tr>\n",
       "    <tr>\n",
       "      <th>09f90e13-bca1-4b0d-aad0-6860fda53706</th>\n",
       "      <td>28.00</td>\n",
       "      <td>2.00</td>\n",
       "      <td>10.22</td>\n",
       "      <td>9.00</td>\n",
       "    </tr>\n",
       "    <tr>\n",
       "      <th>e1e3f27c-1637-4481-9d2f-fa7a89e3c4cc</th>\n",
       "      <td>29.00</td>\n",
       "      <td>2.00</td>\n",
       "      <td>9.47</td>\n",
       "      <td>9.00</td>\n",
       "    </tr>\n",
       "    <tr>\n",
       "      <th>f04c95f1-3e23-4a21-88c3-7633b43aa027</th>\n",
       "      <td>28.00</td>\n",
       "      <td>2.00</td>\n",
       "      <td>9.04</td>\n",
       "      <td>8.00</td>\n",
       "    </tr>\n",
       "    <tr>\n",
       "      <th>404a43ea-f16c-4087-8d5e-eef64065e931</th>\n",
       "      <td>31.00</td>\n",
       "      <td>2.00</td>\n",
       "      <td>8.36</td>\n",
       "      <td>7.00</td>\n",
       "    </tr>\n",
       "    <tr>\n",
       "      <th>305127b2-e13e-42b0-a612-4e95b890dcc6</th>\n",
       "      <td>28.00</td>\n",
       "      <td>3.00</td>\n",
       "      <td>8.98</td>\n",
       "      <td>8.00</td>\n",
       "    </tr>\n",
       "    <tr>\n",
       "      <th>3e347147-7661-45fb-b009-e6d9429b3c1e</th>\n",
       "      <td>30.00</td>\n",
       "      <td>2.00</td>\n",
       "      <td>9.09</td>\n",
       "      <td>8.00</td>\n",
       "    </tr>\n",
       "    <tr>\n",
       "      <th>f9a03358-7414-4140-b1a8-8975314bf2e0</th>\n",
       "      <td>32.00</td>\n",
       "      <td>3.00</td>\n",
       "      <td>13.61</td>\n",
       "      <td>12.00</td>\n",
       "    </tr>\n",
       "    <tr>\n",
       "      <th>48cd62c0-a29c-438f-a3d0-991d5e1a15c5</th>\n",
       "      <td>29.00</td>\n",
       "      <td>2.00</td>\n",
       "      <td>9.88</td>\n",
       "      <td>9.00</td>\n",
       "    </tr>\n",
       "    <tr>\n",
       "      <th>f69b7cab-0612-4d40-8e63-7346889f9c7b</th>\n",
       "      <td>31.00</td>\n",
       "      <td>3.00</td>\n",
       "      <td>12.12</td>\n",
       "      <td>11.00</td>\n",
       "    </tr>\n",
       "    <tr>\n",
       "      <th>d78e0417-774a-4174-8f88-fdc5d4345f40</th>\n",
       "      <td>30.00</td>\n",
       "      <td>2.00</td>\n",
       "      <td>10.60</td>\n",
       "      <td>9.00</td>\n",
       "    </tr>\n",
       "    <tr>\n",
       "      <th>4ab6b399-3e4f-45ca-9ce4-8ef5341d5463</th>\n",
       "      <td>31.00</td>\n",
       "      <td>3.00</td>\n",
       "      <td>10.42</td>\n",
       "      <td>9.00</td>\n",
       "    </tr>\n",
       "    <tr>\n",
       "      <th>2108cd73-c78b-4336-82f9-afcd34cf01ab</th>\n",
       "      <td>31.00</td>\n",
       "      <td>3.00</td>\n",
       "      <td>13.19</td>\n",
       "      <td>12.00</td>\n",
       "    </tr>\n",
       "    <tr>\n",
       "      <th>6e4409a9-4415-4a26-8f6f-e2fdaef4843e</th>\n",
       "      <td>27.00</td>\n",
       "      <td>2.00</td>\n",
       "      <td>9.48</td>\n",
       "      <td>9.00</td>\n",
       "    </tr>\n",
       "    <tr>\n",
       "      <th>4fe55941-fb64-4709-875c-235d614096f7</th>\n",
       "      <td>31.00</td>\n",
       "      <td>2.00</td>\n",
       "      <td>10.17</td>\n",
       "      <td>9.00</td>\n",
       "    </tr>\n",
       "    <tr>\n",
       "      <th>0b7d5345-f89e-45a4-9c8b-e3ae10295879</th>\n",
       "      <td>31.00</td>\n",
       "      <td>3.00</td>\n",
       "      <td>12.02</td>\n",
       "      <td>11.00</td>\n",
       "    </tr>\n",
       "    <tr>\n",
       "      <th>af182ea6-9c93-4d54-bf9c-a26ecb8a3413</th>\n",
       "      <td>30.00</td>\n",
       "      <td>3.00</td>\n",
       "      <td>11.11</td>\n",
       "      <td>10.00</td>\n",
       "    </tr>\n",
       "    <tr>\n",
       "      <th>7a16ff49-f571-4e7b-8dd2-029829dbe5c9</th>\n",
       "      <td>32.00</td>\n",
       "      <td>2.00</td>\n",
       "      <td>14.23</td>\n",
       "      <td>13.00</td>\n",
       "    </tr>\n",
       "    <tr>\n",
       "      <th>f1f074e8-a499-4467-a26d-e15062526d42</th>\n",
       "      <td>31.00</td>\n",
       "      <td>3.00</td>\n",
       "      <td>10.57</td>\n",
       "      <td>9.00</td>\n",
       "    </tr>\n",
       "  </tbody>\n",
       "</table>\n",
       "<p>221469 rows × 4 columns</p>\n",
       "</div>"
      ],
      "text/plain": [
       "                                        Max   Min   Mean Median\n",
       "10bda225-f3e0-4347-97e2-53a9acd3c747  32.00  3.00  14.52  14.00\n",
       "4e22523b-94e2-4020-8a7c-62d2de641cfd  29.00  2.00  10.82  10.00\n",
       "92f534e6-0e0d-4afa-b5d4-dd7da846c6c0  31.00  3.00  11.90  11.00\n",
       "3f994ab6-52f0-4e13-8073-d2e54807b914  32.00  2.00  15.84  15.00\n",
       "eb6bda6a-7242-4b35-a725-be7914770b23  31.00  3.00  10.66   9.00\n",
       "f34af693-9d2f-4e76-9dde-bba1e46dae21  32.00  3.00  14.79  14.00\n",
       "60a50590-c718-491a-bba4-d3cad3d11fd7  33.00  3.00  15.85  15.00\n",
       "62deb1a8-aa65-4c7b-af83-6f18185b211c  31.00  3.00  15.40  15.00\n",
       "d6bb0df9-46a5-4f94-ad9e-39d7b2e8cfcd  32.00  3.00  12.96  12.00\n",
       "1a068e6d-a249-4960-a934-838e684d84c4  33.00  3.00  14.87  14.00\n",
       "4b820c49-72f8-45b2-b9eb-923cfffdaade  32.00  3.00  15.99  15.00\n",
       "1676411a-6335-4a97-961c-ed7760a2ba9a  32.00  3.00  15.29  14.00\n",
       "61d1f49b-832b-4146-a647-40292a85fe99  31.00  2.00  15.49  15.00\n",
       "e1d32f02-859e-40f9-a90c-ad106a175535  32.00  4.00  15.78  15.00\n",
       "1040596d-91ec-4038-809a-a7c4cdf5e5a0  32.00  3.00  15.03  14.00\n",
       "43bd498b-42a4-4e0a-ac50-92e980d441b2  32.00  3.00  15.39  14.00\n",
       "8c73a1e0-301c-4172-be6a-593ecf602966  32.00  4.00  14.31  13.00\n",
       "9357688e-2d8c-4a5f-9c5f-167bed924a45  32.00  3.00  16.16  15.00\n",
       "afd61398-42c6-4ba7-a850-7f929d279e2c  32.00  3.00  14.56  14.00\n",
       "b0e85658-db8f-4631-a349-f9bb2dbdd9f4  32.00  2.00  15.37  15.00\n",
       "3598734e-50b5-43c4-b221-4184595cde91  31.00  3.00  15.08  14.00\n",
       "ad2f217b-cbd5-44a5-b737-e046942f0f13  32.00  3.00  15.96  15.00\n",
       "aaf02cea-952a-4982-84cd-68769c303a20  32.00  3.00  14.77  14.00\n",
       "a9f2635e-453c-45d4-bca4-dec524426c3f  32.00  3.00  14.45  13.00\n",
       "26796eb0-7ae7-451c-906e-6df5129d2f5d  32.00  2.00  15.70  15.00\n",
       "64720da1-cb36-4d91-bdc4-71ce8a947d17  32.00  4.00  15.63  15.00\n",
       "74102d47-989e-4bef-90d6-baea0d3adeb0  32.00  4.00  16.76  16.00\n",
       "e35c4ebd-991b-40e1-a7fa-5e198f2fdf1b  32.00  3.00  16.32  16.00\n",
       "a1c3c479-9ca4-431f-b13f-96723ed13880  31.00  3.00  15.23  14.00\n",
       "91ccb89f-df18-4c5b-94fa-b56f26d81ae2  31.00  3.00  14.81  14.00\n",
       "...                                     ...   ...    ...    ...\n",
       "3fef8bc7-a1c8-4370-9cfb-9f1a2c805c19  31.00  2.00   9.70   9.00\n",
       "146bbbc4-f191-4787-afcd-d2f5a4cd07ca  31.00  2.00  12.74  11.00\n",
       "4b888526-005d-4ed4-9be0-e9e9105dc366  31.00  2.00   8.69   8.00\n",
       "56e8ccc3-7249-4bbd-b10a-925777dea366  30.00  3.00  11.29  10.00\n",
       "d544eb6c-0d30-4da2-bec0-73baf97dc33d  32.00  2.00   8.90   8.00\n",
       "48f69b67-39e7-48e3-a6cd-832594145b4f  30.00  3.00  11.04  10.00\n",
       "b1b1bfc2-7605-494b-9ca1-da4b04047965  29.00  2.00   9.01   8.00\n",
       "c0e2bdf9-2f25-49f7-a873-f390c9f59711  26.00  2.00   8.47   8.00\n",
       "c3a33e2f-0030-44a0-bc12-8722947a9a93  28.00  2.00   8.52   8.00\n",
       "84998901-fea0-4b3a-aa54-25dfdbaa083b  32.00  3.00  11.65  10.00\n",
       "089ed198-b52c-4eed-b103-d48fcd556991  32.00  3.00   9.46   8.00\n",
       "9d0484c8-4f44-4019-a14e-0844edfa9416  32.00  3.00  11.25  10.00\n",
       "09f90e13-bca1-4b0d-aad0-6860fda53706  28.00  2.00  10.22   9.00\n",
       "e1e3f27c-1637-4481-9d2f-fa7a89e3c4cc  29.00  2.00   9.47   9.00\n",
       "f04c95f1-3e23-4a21-88c3-7633b43aa027  28.00  2.00   9.04   8.00\n",
       "404a43ea-f16c-4087-8d5e-eef64065e931  31.00  2.00   8.36   7.00\n",
       "305127b2-e13e-42b0-a612-4e95b890dcc6  28.00  3.00   8.98   8.00\n",
       "3e347147-7661-45fb-b009-e6d9429b3c1e  30.00  2.00   9.09   8.00\n",
       "f9a03358-7414-4140-b1a8-8975314bf2e0  32.00  3.00  13.61  12.00\n",
       "48cd62c0-a29c-438f-a3d0-991d5e1a15c5  29.00  2.00   9.88   9.00\n",
       "f69b7cab-0612-4d40-8e63-7346889f9c7b  31.00  3.00  12.12  11.00\n",
       "d78e0417-774a-4174-8f88-fdc5d4345f40  30.00  2.00  10.60   9.00\n",
       "4ab6b399-3e4f-45ca-9ce4-8ef5341d5463  31.00  3.00  10.42   9.00\n",
       "2108cd73-c78b-4336-82f9-afcd34cf01ab  31.00  3.00  13.19  12.00\n",
       "6e4409a9-4415-4a26-8f6f-e2fdaef4843e  27.00  2.00   9.48   9.00\n",
       "4fe55941-fb64-4709-875c-235d614096f7  31.00  2.00  10.17   9.00\n",
       "0b7d5345-f89e-45a4-9c8b-e3ae10295879  31.00  3.00  12.02  11.00\n",
       "af182ea6-9c93-4d54-bf9c-a26ecb8a3413  30.00  3.00  11.11  10.00\n",
       "7a16ff49-f571-4e7b-8dd2-029829dbe5c9  32.00  2.00  14.23  13.00\n",
       "f1f074e8-a499-4467-a26d-e15062526d42  31.00  3.00  10.57   9.00\n",
       "\n",
       "[221469 rows x 4 columns]"
      ]
     },
     "execution_count": 46,
     "metadata": {},
     "output_type": "execute_result"
    }
   ],
   "source": [
    "fastq_qscores_dataframe"
   ]
  },
  {
   "cell_type": "code",
   "execution_count": 15,
   "metadata": {},
   "outputs": [],
   "source": [
    "mean_qscores = []\n",
    "for key in fastq_dict:\n",
    "    mean_qscores.append(np.mean(fastq_dict[key].letter_annotations[\"phred_quality\"]))"
   ]
  },
  {
   "cell_type": "code",
   "execution_count": 9,
   "metadata": {},
   "outputs": [
    {
     "name": "stderr",
     "output_type": "stream",
     "text": [
      "/home/tavish/anaconda3/lib/python3.7/site-packages/scipy/stats/stats.py:1713: FutureWarning: Using a non-tuple sequence for multidimensional indexing is deprecated; use `arr[tuple(seq)]` instead of `arr[seq]`. In the future this will be interpreted as an array index, `arr[np.array(seq)]`, which will result either in an error or a different result.\n",
      "  return np.add.reduce(sorted[indexer] * weights, axis=axis) / sumval\n"
     ]
    },
    {
     "data": {
      "text/plain": [
       "<matplotlib.axes._subplots.AxesSubplot at 0x7f3f4ab84f98>"
      ]
     },
     "execution_count": 9,
     "metadata": {},
     "output_type": "execute_result"
    },
    {
     "data": {
      "image/png": "[encoded data removed]",
      "text/plain": [
       "<Figure size 432x288 with 1 Axes>"
      ]
     },
     "metadata": {
      "needs_background": "light"
     },
     "output_type": "display_data"
    }
   ],
   "source": [
    "sns.distplot(lengths, color=\"k\")"
   ]
  },
  {
   "cell_type": "code",
   "execution_count": 14,
   "metadata": {},
   "outputs": [
    {
     "name": "stderr",
     "output_type": "stream",
     "text": [
      "/home/tavish/anaconda3/lib/python3.7/site-packages/scipy/stats/stats.py:1713: FutureWarning: Using a non-tuple sequence for multidimensional indexing is deprecated; use `arr[tuple(seq)]` instead of `arr[seq]`. In the future this will be interpreted as an array index, `arr[np.array(seq)]`, which will result either in an error or a different result.\n",
      "  return np.add.reduce(sorted[indexer] * weights, axis=axis) / sumval\n"
     ]
    },
    {
     "data": {
      "text/plain": [
       "[(0, 4000)]"
      ]
     },
     "execution_count": 14,
     "metadata": {},
     "output_type": "execute_result"
    },
    {
     "data": {
      "image/png": "[encoded data removed]",
      "text/plain": [
       "<Figure size 432x288 with 1 Axes>"
      ]
     },
     "metadata": {
      "needs_background": "light"
     },
     "output_type": "display_data"
    }
   ],
   "source": [
    "ax = sns.distplot(lengths, color=\"k\", bins=100)\n",
    "ax.set(xlim=(0,4000))"
   ]
  },
  {
   "cell_type": "code",
   "execution_count": 16,
   "metadata": {},
   "outputs": [
    {
     "name": "stderr",
     "output_type": "stream",
     "text": [
      "/home/tavish/anaconda3/lib/python3.7/site-packages/scipy/stats/stats.py:1713: FutureWarning: Using a non-tuple sequence for multidimensional indexing is deprecated; use `arr[tuple(seq)]` instead of `arr[seq]`. In the future this will be interpreted as an array index, `arr[np.array(seq)]`, which will result either in an error or a different result.\n",
      "  return np.add.reduce(sorted[indexer] * weights, axis=axis) / sumval\n"
     ]
    },
    {
     "data": {
      "text/plain": [
       "Text(0,0.5,'Frequency')"
      ]
     },
     "execution_count": 16,
     "metadata": {},
     "output_type": "execute_result"
    },
    {
     "data": {
      "image/png": "[encoded data removed]",
      "text/plain": [
       "<Figure size 432x288 with 1 Axes>"
      ]
     },
     "metadata": {
      "needs_background": "light"
     },
     "output_type": "display_data"
    }
   ],
   "source": [
    "ax = sns.distplot(mean_qscores, color=\"k\")\n",
    "ax.set_xlabel(\"Q Score\")\n",
    "ax.set_ylabel(\"Frequency\")"
   ]
  },
  {
   "cell_type": "code",
   "execution_count": 17,
   "metadata": {},
   "outputs": [
    {
     "name": "stderr",
     "output_type": "stream",
     "text": [
      "/home/tavish/anaconda3/lib/python3.7/site-packages/scipy/stats/stats.py:1713: FutureWarning: Using a non-tuple sequence for multidimensional indexing is deprecated; use `arr[tuple(seq)]` instead of `arr[seq]`. In the future this will be interpreted as an array index, `arr[np.array(seq)]`, which will result either in an error or a different result.\n",
      "  return np.add.reduce(sorted[indexer] * weights, axis=axis) / sumval\n"
     ]
    },
    {
     "data": {
      "text/plain": [
       "<seaborn.axisgrid.JointGrid at 0x7f3f49dadc88>"
      ]
     },
     "execution_count": 17,
     "metadata": {},
     "output_type": "execute_result"
    },
    {
     "data": {
      "image/png": "[encoded data removed]",
      "text/plain": [
       "<Figure size 432x432 with 3 Axes>"
      ]
     },
     "metadata": {
      "needs_background": "light"
     },
     "output_type": "display_data"
    }
   ],
   "source": [
    "sns.jointplot(x=lengths, y=mean_qscores, color=\"k\")"
   ]
  },
  {
   "cell_type": "code",
   "execution_count": 18,
   "metadata": {},
   "outputs": [
    {
     "name": "stderr",
     "output_type": "stream",
     "text": [
      "/home/tavish/anaconda3/lib/python3.7/site-packages/scipy/stats/stats.py:1713: FutureWarning: Using a non-tuple sequence for multidimensional indexing is deprecated; use `arr[tuple(seq)]` instead of `arr[seq]`. In the future this will be interpreted as an array index, `arr[np.array(seq)]`, which will result either in an error or a different result.\n",
      "  return np.add.reduce(sorted[indexer] * weights, axis=axis) / sumval\n"
     ]
    },
    {
     "data": {
      "text/plain": [
       "<seaborn.axisgrid.JointGrid at 0x7f3f49c95748>"
      ]
     },
     "execution_count": 18,
     "metadata": {},
     "output_type": "execute_result"
    },
    {
     "data": {
      "image/png": "[encoded data removed]",
      "text/plain": [
       "<Figure size 432x432 with 3 Axes>"
      ]
     },
     "metadata": {
      "needs_background": "light"
     },
     "output_type": "display_data"
    }
   ],
   "source": [
    "sns.jointplot(x=lengths, y=mean_qscores, kind=\"kde\", color=\"k\")"
   ]
  },
  {
   "cell_type": "code",
   "execution_count": null,
   "metadata": {},
   "outputs": [],
   "source": []
  }
 ],
 "metadata": {
  "kernelspec": {
   "display_name": "Python 3",
   "language": "python",
   "name": "python3"
  },
  "language_info": {
   "codemirror_mode": {
    "name": "ipython",
    "version": 3
   },
   "file_extension": ".py",
   "mimetype": "text/x-python",
   "name": "python",
   "nbconvert_exporter": "python",
   "pygments_lexer": "ipython3",
   "version": "3.7.0"
  }
 },
 "nbformat": 4,
 "nbformat_minor": 2
}
